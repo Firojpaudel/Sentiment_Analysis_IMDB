{
 "cells": [
  {
   "cell_type": "markdown",
   "id": "98818314",
   "metadata": {
    "_cell_guid": "b1076dfc-b9ad-4769-8c92-a6c4dae69d19",
    "_uuid": "8f2839f25d086af736a60e9eeb907d3b93b6e0e5",
    "papermill": {
     "duration": 0.007763,
     "end_time": "2025-01-18T08:42:17.166804",
     "exception": false,
     "start_time": "2025-01-18T08:42:17.159041",
     "status": "completed"
    },
    "tags": []
   },
   "source": [
    "> Welcome to the notebook! This is my submission notebook file for the [Fellowship.ai](https://www.fellowship.ai/) Cohort 34, NLP challenge."
   ]
  },
  {
   "cell_type": "markdown",
   "id": "f70a122c",
   "metadata": {
    "papermill": {
     "duration": 0.005698,
     "end_time": "2025-01-18T08:42:17.178621",
     "exception": false,
     "start_time": "2025-01-18T08:42:17.172923",
     "status": "completed"
    },
    "tags": []
   },
   "source": [
    "First, let's analyze dataset. Link to the dataset: [IMDB Dataset of 50K Movie Reviews](https://www.kaggle.com/datasets/lakshmi25npathi/imdb-dataset-of-50k-movie-reviews/discussion?sort=hotness)"
   ]
  },
  {
   "cell_type": "code",
   "execution_count": 1,
   "id": "9c864701",
   "metadata": {
    "execution": {
     "iopub.execute_input": "2025-01-18T08:42:17.191329Z",
     "iopub.status.busy": "2025-01-18T08:42:17.191053Z",
     "iopub.status.idle": "2025-01-18T08:42:17.195889Z",
     "shell.execute_reply": "2025-01-18T08:42:17.195062Z"
    },
    "papermill": {
     "duration": 0.012704,
     "end_time": "2025-01-18T08:42:17.197153",
     "exception": false,
     "start_time": "2025-01-18T08:42:17.184449",
     "status": "completed"
    },
    "tags": []
   },
   "outputs": [],
   "source": [
    "# !pip install transformers datasets torch"
   ]
  },
  {
   "cell_type": "code",
   "execution_count": 2,
   "id": "49ad97af",
   "metadata": {
    "execution": {
     "iopub.execute_input": "2025-01-18T08:42:17.210204Z",
     "iopub.status.busy": "2025-01-18T08:42:17.209991Z",
     "iopub.status.idle": "2025-01-18T08:42:19.256022Z",
     "shell.execute_reply": "2025-01-18T08:42:19.255112Z"
    },
    "papermill": {
     "duration": 2.054206,
     "end_time": "2025-01-18T08:42:19.257597",
     "exception": false,
     "start_time": "2025-01-18T08:42:17.203391",
     "status": "completed"
    },
    "tags": []
   },
   "outputs": [],
   "source": [
    "#@ Since I'm using Kaggle's notebook itself, I don't need to import kaggle and stuffs.\n",
    "import pandas as pd \n",
    "\n",
    "ds = pd.read_csv('/kaggle/input/imdb-dataset-of-50k-movie-reviews/IMDB Dataset.csv')"
   ]
  },
  {
   "cell_type": "markdown",
   "id": "f73d8f1f",
   "metadata": {
    "papermill": {
     "duration": 0.005776,
     "end_time": "2025-01-18T08:42:19.269740",
     "exception": false,
     "start_time": "2025-01-18T08:42:19.263964",
     "status": "completed"
    },
    "tags": []
   },
   "source": [
    "## Preprocessing.... \n",
    "\n",
    "---"
   ]
  },
  {
   "cell_type": "code",
   "execution_count": 3,
   "id": "f8f2919f",
   "metadata": {
    "execution": {
     "iopub.execute_input": "2025-01-18T08:42:19.282484Z",
     "iopub.status.busy": "2025-01-18T08:42:19.282185Z",
     "iopub.status.idle": "2025-01-18T08:42:19.302477Z",
     "shell.execute_reply": "2025-01-18T08:42:19.301666Z"
    },
    "papermill": {
     "duration": 0.028261,
     "end_time": "2025-01-18T08:42:19.303876",
     "exception": false,
     "start_time": "2025-01-18T08:42:19.275615",
     "status": "completed"
    },
    "tags": []
   },
   "outputs": [
    {
     "data": {
      "text/html": [
       "<div>\n",
       "<style scoped>\n",
       "    .dataframe tbody tr th:only-of-type {\n",
       "        vertical-align: middle;\n",
       "    }\n",
       "\n",
       "    .dataframe tbody tr th {\n",
       "        vertical-align: top;\n",
       "    }\n",
       "\n",
       "    .dataframe thead th {\n",
       "        text-align: right;\n",
       "    }\n",
       "</style>\n",
       "<table border=\"1\" class=\"dataframe\">\n",
       "  <thead>\n",
       "    <tr style=\"text-align: right;\">\n",
       "      <th></th>\n",
       "      <th>review</th>\n",
       "      <th>sentiment</th>\n",
       "    </tr>\n",
       "  </thead>\n",
       "  <tbody>\n",
       "    <tr>\n",
       "      <th>0</th>\n",
       "      <td>One of the other reviewers has mentioned that ...</td>\n",
       "      <td>positive</td>\n",
       "    </tr>\n",
       "    <tr>\n",
       "      <th>1</th>\n",
       "      <td>A wonderful little production. &lt;br /&gt;&lt;br /&gt;The...</td>\n",
       "      <td>positive</td>\n",
       "    </tr>\n",
       "    <tr>\n",
       "      <th>2</th>\n",
       "      <td>I thought this was a wonderful way to spend ti...</td>\n",
       "      <td>positive</td>\n",
       "    </tr>\n",
       "    <tr>\n",
       "      <th>3</th>\n",
       "      <td>Basically there's a family where a little boy ...</td>\n",
       "      <td>negative</td>\n",
       "    </tr>\n",
       "    <tr>\n",
       "      <th>4</th>\n",
       "      <td>Petter Mattei's \"Love in the Time of Money\" is...</td>\n",
       "      <td>positive</td>\n",
       "    </tr>\n",
       "  </tbody>\n",
       "</table>\n",
       "</div>"
      ],
      "text/plain": [
       "                                              review sentiment\n",
       "0  One of the other reviewers has mentioned that ...  positive\n",
       "1  A wonderful little production. <br /><br />The...  positive\n",
       "2  I thought this was a wonderful way to spend ti...  positive\n",
       "3  Basically there's a family where a little boy ...  negative\n",
       "4  Petter Mattei's \"Love in the Time of Money\" is...  positive"
      ]
     },
     "execution_count": 3,
     "metadata": {},
     "output_type": "execute_result"
    }
   ],
   "source": [
    "ds.head()"
   ]
  },
  {
   "cell_type": "code",
   "execution_count": 4,
   "id": "69291f1f",
   "metadata": {
    "execution": {
     "iopub.execute_input": "2025-01-18T08:42:19.317787Z",
     "iopub.status.busy": "2025-01-18T08:42:19.317571Z",
     "iopub.status.idle": "2025-01-18T08:42:20.968154Z",
     "shell.execute_reply": "2025-01-18T08:42:20.967352Z"
    },
    "papermill": {
     "duration": 1.659139,
     "end_time": "2025-01-18T08:42:20.969697",
     "exception": false,
     "start_time": "2025-01-18T08:42:19.310558",
     "status": "completed"
    },
    "tags": []
   },
   "outputs": [
    {
     "data": {
      "image/png": "[encoded data removed]",
      "text/plain": [
       "<Figure size 640x480 with 1 Axes>"
      ]
     },
     "metadata": {},
     "output_type": "display_data"
    }
   ],
   "source": [
    "##@ Looking at dataset distribution\n",
    "\n",
    "import seaborn as sns \n",
    "import matplotlib.pyplot as plt \n",
    "\n",
    "sns.countplot(data= ds, x='sentiment')\n",
    "plt.title('Sentiment distributon')\n",
    "plt.show()"
   ]
  },
  {
   "cell_type": "markdown",
   "id": "224edbb0",
   "metadata": {
    "papermill": {
     "duration": 0.006624,
     "end_time": "2025-01-18T08:42:20.983495",
     "exception": false,
     "start_time": "2025-01-18T08:42:20.976871",
     "status": "completed"
    },
    "tags": []
   },
   "source": [
    "So, the dataset contains **equal number of positive and negative sentiments**"
   ]
  },
  {
   "cell_type": "code",
   "execution_count": 5,
   "id": "5108bb19",
   "metadata": {
    "execution": {
     "iopub.execute_input": "2025-01-18T08:42:20.997759Z",
     "iopub.status.busy": "2025-01-18T08:42:20.997343Z",
     "iopub.status.idle": "2025-01-18T08:42:21.001013Z",
     "shell.execute_reply": "2025-01-18T08:42:21.000432Z"
    },
    "papermill": {
     "duration": 0.012112,
     "end_time": "2025-01-18T08:42:21.002070",
     "exception": false,
     "start_time": "2025-01-18T08:42:20.989958",
     "status": "completed"
    },
    "tags": []
   },
   "outputs": [],
   "source": [
    "ds.columns = ds.columns.str.strip()"
   ]
  },
  {
   "cell_type": "code",
   "execution_count": 6,
   "id": "56874a2f",
   "metadata": {
    "execution": {
     "iopub.execute_input": "2025-01-18T08:42:21.017741Z",
     "iopub.status.busy": "2025-01-18T08:42:21.017382Z",
     "iopub.status.idle": "2025-01-18T08:42:21.026454Z",
     "shell.execute_reply": "2025-01-18T08:42:21.025384Z"
    },
    "papermill": {
     "duration": 0.019513,
     "end_time": "2025-01-18T08:42:21.028009",
     "exception": false,
     "start_time": "2025-01-18T08:42:21.008496",
     "status": "completed"
    },
    "tags": []
   },
   "outputs": [],
   "source": [
    "##@ Converting sentiments to binary values: its easier to process that way \n",
    "ds['sentiment'] = ds['sentiment'].map({'positive': 1, 'negative': 0})"
   ]
  },
  {
   "cell_type": "code",
   "execution_count": 7,
   "id": "346fcd50",
   "metadata": {
    "execution": {
     "iopub.execute_input": "2025-01-18T08:42:21.042774Z",
     "iopub.status.busy": "2025-01-18T08:42:21.042383Z",
     "iopub.status.idle": "2025-01-18T08:42:22.424387Z",
     "shell.execute_reply": "2025-01-18T08:42:22.423517Z"
    },
    "papermill": {
     "duration": 1.390879,
     "end_time": "2025-01-18T08:42:22.425852",
     "exception": false,
     "start_time": "2025-01-18T08:42:21.034973",
     "status": "completed"
    },
    "tags": []
   },
   "outputs": [
    {
     "data": {
      "text/plain": [
       "0    one of the other reviewers has mentioned that ...\n",
       "1    a wonderful little production the filming tech...\n",
       "2    i thought this was a wonderful way to spend ti...\n",
       "3    basically theres a family where a little boy j...\n",
       "4    petter matteis love in the time of money is a ...\n",
       "Name: review, dtype: object"
      ]
     },
     "execution_count": 7,
     "metadata": {},
     "output_type": "execute_result"
    }
   ],
   "source": [
    "import re\n",
    "\n",
    "##@ Also I see some html tags in dataset, so cleaning them\n",
    "def clean_text(text):\n",
    "    text = text.lower() \n",
    "    text = re.sub(r'<.*?>', '', text)\n",
    "    text = re.sub(r'[^a-zA-Z\\s]', '', text)  ##added later on to remove all characters that were not letters or whitespace\n",
    "    return text.strip()\n",
    "\n",
    "ds['review']= ds['review'].apply(clean_text)\n",
    "\n",
    "ds['review'].head()"
   ]
  },
  {
   "cell_type": "code",
   "execution_count": 8,
   "id": "1426eaea",
   "metadata": {
    "execution": {
     "iopub.execute_input": "2025-01-18T08:42:22.441353Z",
     "iopub.status.busy": "2025-01-18T08:42:22.441074Z",
     "iopub.status.idle": "2025-01-18T08:42:22.450730Z",
     "shell.execute_reply": "2025-01-18T08:42:22.449851Z"
    },
    "papermill": {
     "duration": 0.018635,
     "end_time": "2025-01-18T08:42:22.452101",
     "exception": false,
     "start_time": "2025-01-18T08:42:22.433466",
     "status": "completed"
    },
    "tags": []
   },
   "outputs": [
    {
     "name": "stdout",
     "output_type": "stream",
     "text": [
      "review       0\n",
      "sentiment    0\n",
      "dtype: int64\n"
     ]
    }
   ],
   "source": [
    " ##@ Also checking if there are any NULL values \n",
    "print(ds.isnull().sum())"
   ]
  },
  {
   "cell_type": "markdown",
   "id": "c2a85ca0",
   "metadata": {
    "papermill": {
     "duration": 0.006193,
     "end_time": "2025-01-18T08:42:22.465747",
     "exception": false,
     "start_time": "2025-01-18T08:42:22.459554",
     "status": "completed"
    },
    "tags": []
   },
   "source": [
    "That's good.. No Null values 😲\n",
    "\n",
    "---"
   ]
  },
  {
   "cell_type": "markdown",
   "id": "1157fd38",
   "metadata": {
    "papermill": {
     "duration": 0.006326,
     "end_time": "2025-01-18T08:42:22.478524",
     "exception": false,
     "start_time": "2025-01-18T08:42:22.472198",
     "status": "completed"
    },
    "tags": []
   },
   "source": [
    "## Implementation phase ... \n",
    "\n",
    "---"
   ]
  },
  {
   "cell_type": "markdown",
   "id": "0a247e2b",
   "metadata": {
    "papermill": {
     "duration": 0.006189,
     "end_time": "2025-01-18T08:42:22.491089",
     "exception": false,
     "start_time": "2025-01-18T08:42:22.484900",
     "status": "completed"
    },
    "tags": []
   },
   "source": [
    "Okay so I will just finetune the Hugging face model — _\"distilbert-base-uncased\"_."
   ]
  },
  {
   "cell_type": "code",
   "execution_count": 9,
   "id": "e3b7b830",
   "metadata": {
    "execution": {
     "iopub.execute_input": "2025-01-18T08:42:22.504711Z",
     "iopub.status.busy": "2025-01-18T08:42:22.504489Z",
     "iopub.status.idle": "2025-01-18T08:42:22.507419Z",
     "shell.execute_reply": "2025-01-18T08:42:22.506793Z"
    },
    "papermill": {
     "duration": 0.011037,
     "end_time": "2025-01-18T08:42:22.508617",
     "exception": false,
     "start_time": "2025-01-18T08:42:22.497580",
     "status": "completed"
    },
    "tags": []
   },
   "outputs": [],
   "source": [
    "## Getting rid of warnigs to make it more readable\n",
    "import warnings\n",
    "\n",
    "warnings.filterwarnings('ignore')"
   ]
  },
  {
   "cell_type": "code",
   "execution_count": 10,
   "id": "8572d0a6",
   "metadata": {
    "execution": {
     "iopub.execute_input": "2025-01-18T08:42:22.522315Z",
     "iopub.status.busy": "2025-01-18T08:42:22.522117Z",
     "iopub.status.idle": "2025-01-18T08:42:24.304811Z",
     "shell.execute_reply": "2025-01-18T08:42:24.304070Z"
    },
    "papermill": {
     "duration": 1.79106,
     "end_time": "2025-01-18T08:42:24.306202",
     "exception": false,
     "start_time": "2025-01-18T08:42:22.515142",
     "status": "completed"
    },
    "tags": []
   },
   "outputs": [
    {
     "data": {
      "text/plain": [
       "Dataset({\n",
       "    features: ['review', 'sentiment'],\n",
       "    num_rows: 50000\n",
       "})"
      ]
     },
     "execution_count": 10,
     "metadata": {},
     "output_type": "execute_result"
    }
   ],
   "source": [
    "## Okay so I analyzed the dataset using pandas. Now converting this to HF dataset\n",
    "from datasets import Dataset\n",
    "\n",
    "dataset = Dataset.from_pandas(ds)\n",
    "\n",
    "dataset"
   ]
  },
  {
   "cell_type": "code",
   "execution_count": 11,
   "id": "b9e5eb87",
   "metadata": {
    "execution": {
     "iopub.execute_input": "2025-01-18T08:42:24.321191Z",
     "iopub.status.busy": "2025-01-18T08:42:24.320700Z",
     "iopub.status.idle": "2025-01-18T08:42:58.579470Z",
     "shell.execute_reply": "2025-01-18T08:42:58.578583Z"
    },
    "papermill": {
     "duration": 34.267384,
     "end_time": "2025-01-18T08:42:58.580865",
     "exception": false,
     "start_time": "2025-01-18T08:42:24.313481",
     "status": "completed"
    },
    "tags": []
   },
   "outputs": [
    {
     "data": {
      "application/vnd.jupyter.widget-view+json": {
       "model_id": "5ba7e68ac2134bb6966c5f1e39311ee3",
       "version_major": 2,
       "version_minor": 0
      },
      "text/plain": [
       "tokenizer_config.json:   0%|          | 0.00/48.0 [00:00<?, ?B/s]"
      ]
     },
     "metadata": {},
     "output_type": "display_data"
    },
    {
     "data": {
      "application/vnd.jupyter.widget-view+json": {
       "model_id": "ebf6b79ad67243f8b69fb2e3f6f337d9",
       "version_major": 2,
       "version_minor": 0
      },
      "text/plain": [
       "config.json:   0%|          | 0.00/483 [00:00<?, ?B/s]"
      ]
     },
     "metadata": {},
     "output_type": "display_data"
    },
    {
     "data": {
      "application/vnd.jupyter.widget-view+json": {
       "model_id": "d299e0b761a447a5867cfef033a1afb0",
       "version_major": 2,
       "version_minor": 0
      },
      "text/plain": [
       "vocab.txt:   0%|          | 0.00/232k [00:00<?, ?B/s]"
      ]
     },
     "metadata": {},
     "output_type": "display_data"
    },
    {
     "data": {
      "application/vnd.jupyter.widget-view+json": {
       "model_id": "87504ef698654ee59c15bee9e89bb533",
       "version_major": 2,
       "version_minor": 0
      },
      "text/plain": [
       "tokenizer.json:   0%|          | 0.00/466k [00:00<?, ?B/s]"
      ]
     },
     "metadata": {},
     "output_type": "display_data"
    },
    {
     "data": {
      "application/vnd.jupyter.widget-view+json": {
       "model_id": "c6c848796877436faa3eb2013a2a039e",
       "version_major": 2,
       "version_minor": 0
      },
      "text/plain": [
       "Map:   0%|          | 0/50000 [00:00<?, ? examples/s]"
      ]
     },
     "metadata": {},
     "output_type": "display_data"
    }
   ],
   "source": [
    "## Tokenizing \n",
    "from transformers import AutoTokenizer \n",
    "\n",
    "model_name = \"distilbert-base-uncased\"\n",
    "\n",
    "tokenizer = AutoTokenizer.from_pretrained(model_name)\n",
    "\n",
    "def tokenizer_function(texts):\n",
    "    return tokenizer(texts[\"review\"], padding=\"max_length\", truncation= True)\n",
    "\n",
    "tokenized_dataset = dataset.map(tokenizer_function, batched= True)"
   ]
  },
  {
   "cell_type": "markdown",
   "id": "312a4d92",
   "metadata": {
    "papermill": {
     "duration": 0.006957,
     "end_time": "2025-01-18T08:42:58.595593",
     "exception": false,
     "start_time": "2025-01-18T08:42:58.588636",
     "status": "completed"
    },
    "tags": []
   },
   "source": [
    "Preparing the dataset before passing into the model"
   ]
  },
  {
   "cell_type": "code",
   "execution_count": 12,
   "id": "74dc35d2",
   "metadata": {
    "execution": {
     "iopub.execute_input": "2025-01-18T08:42:58.611094Z",
     "iopub.status.busy": "2025-01-18T08:42:58.610720Z",
     "iopub.status.idle": "2025-01-18T08:42:58.618180Z",
     "shell.execute_reply": "2025-01-18T08:42:58.617321Z"
    },
    "papermill": {
     "duration": 0.016974,
     "end_time": "2025-01-18T08:42:58.619631",
     "exception": false,
     "start_time": "2025-01-18T08:42:58.602657",
     "status": "completed"
    },
    "tags": []
   },
   "outputs": [],
   "source": [
    "from torch.utils.data import DataLoader \n",
    "\n",
    "## removing the reviews columns since its already tokenized in function and we no longer need it \n",
    "tokenized_dataset = tokenized_dataset.remove_columns(['review'])\n",
    "\n",
    "##renaming the sentiments as labels since its standard format in libraries \n",
    "tokenized_dataset = tokenized_dataset.rename_column('sentiment', 'labels')\n",
    "\n",
    "## converting to the pytorch tensors \n",
    "tokenized_dataset.set_format('torch')"
   ]
  },
  {
   "cell_type": "markdown",
   "id": "5f2b0f2d",
   "metadata": {
    "papermill": {
     "duration": 0.006949,
     "end_time": "2025-01-18T08:42:58.634090",
     "exception": false,
     "start_time": "2025-01-18T08:42:58.627141",
     "status": "completed"
    },
    "tags": []
   },
   "source": [
    "Now since I want the evaluation results as well, breaking down the dataset to training and validation/test sets... "
   ]
  },
  {
   "cell_type": "code",
   "execution_count": 13,
   "id": "ec0d6198",
   "metadata": {
    "execution": {
     "iopub.execute_input": "2025-01-18T08:42:58.649113Z",
     "iopub.status.busy": "2025-01-18T08:42:58.648843Z",
     "iopub.status.idle": "2025-01-18T08:42:58.666713Z",
     "shell.execute_reply": "2025-01-18T08:42:58.665858Z"
    },
    "papermill": {
     "duration": 0.026812,
     "end_time": "2025-01-18T08:42:58.667964",
     "exception": false,
     "start_time": "2025-01-18T08:42:58.641152",
     "status": "completed"
    },
    "tags": []
   },
   "outputs": [],
   "source": [
    "train_test = tokenized_dataset.train_test_split(test_size=0.2)  #80:20 ratio\n",
    "train_dataset = train_test[\"train\"]\n",
    "test_dataset = train_test[\"test\"]"
   ]
  },
  {
   "cell_type": "code",
   "execution_count": 14,
   "id": "b847f199",
   "metadata": {
    "execution": {
     "iopub.execute_input": "2025-01-18T08:42:58.683402Z",
     "iopub.status.busy": "2025-01-18T08:42:58.683151Z",
     "iopub.status.idle": "2025-01-18T08:43:13.359312Z",
     "shell.execute_reply": "2025-01-18T08:43:13.358658Z"
    },
    "papermill": {
     "duration": 14.685282,
     "end_time": "2025-01-18T08:43:13.360688",
     "exception": false,
     "start_time": "2025-01-18T08:42:58.675406",
     "status": "completed"
    },
    "tags": []
   },
   "outputs": [
    {
     "data": {
      "application/vnd.jupyter.widget-view+json": {
       "model_id": "3a94483aa31f4b8f925ad64900aaabe0",
       "version_major": 2,
       "version_minor": 0
      },
      "text/plain": [
       "model.safetensors:   0%|          | 0.00/268M [00:00<?, ?B/s]"
      ]
     },
     "metadata": {},
     "output_type": "display_data"
    },
    {
     "name": "stderr",
     "output_type": "stream",
     "text": [
      "Some weights of DistilBertForSequenceClassification were not initialized from the model checkpoint at distilbert-base-uncased and are newly initialized: ['classifier.bias', 'classifier.weight', 'pre_classifier.bias', 'pre_classifier.weight']\n",
      "You should probably TRAIN this model on a down-stream task to be able to use it for predictions and inference.\n"
     ]
    }
   ],
   "source": [
    "## Setting the model\n",
    "from transformers import AutoModelForSequenceClassification \n",
    "\n",
    "model= AutoModelForSequenceClassification.from_pretrained(model_name, num_labels = 2)"
   ]
  },
  {
   "cell_type": "markdown",
   "id": "e6e4b1f9",
   "metadata": {
    "papermill": {
     "duration": 0.007161,
     "end_time": "2025-01-18T08:43:13.376052",
     "exception": false,
     "start_time": "2025-01-18T08:43:13.368891",
     "status": "completed"
    },
    "tags": []
   },
   "source": [
    "Will use Trainer method."
   ]
  },
  {
   "cell_type": "code",
   "execution_count": 15,
   "id": "a3786315",
   "metadata": {
    "execution": {
     "iopub.execute_input": "2025-01-18T08:43:13.391888Z",
     "iopub.status.busy": "2025-01-18T08:43:13.391357Z",
     "iopub.status.idle": "2025-01-18T08:43:17.758617Z",
     "shell.execute_reply": "2025-01-18T08:43:17.757901Z"
    },
    "papermill": {
     "duration": 4.376552,
     "end_time": "2025-01-18T08:43:17.760044",
     "exception": false,
     "start_time": "2025-01-18T08:43:13.383492",
     "status": "completed"
    },
    "tags": []
   },
   "outputs": [],
   "source": [
    "from transformers import TrainingArguments, Trainer, TrainerCallback\n",
    "\n",
    "training_args = TrainingArguments(\n",
    "    output_dir=\"./sentiments\",\n",
    "    eval_strategy=\"epoch\",\n",
    "    learning_rate=2e-5,\n",
    "    per_device_train_batch_size=16,\n",
    "    per_device_eval_batch_size=16,\n",
    "    num_train_epochs=3,\n",
    "    weight_decay=0.01,\n",
    ")\n",
    "\n",
    "class SaveMetricsCallback(TrainerCallback):\n",
    "    def __init__(self):\n",
    "        self.history = []\n",
    "\n",
    "    def on_log(self, args, state, control, logs=None, **kwargs):\n",
    "        if logs:\n",
    "            self.history.append(logs)\n",
    "\n",
    "metrics_callback = SaveMetricsCallback()\n",
    "\n",
    "trainer = Trainer(\n",
    "    model=model,\n",
    "    args=training_args,\n",
    "    train_dataset=train_dataset,\n",
    "    eval_dataset=test_dataset,\n",
    ")"
   ]
  },
  {
   "cell_type": "code",
   "execution_count": 16,
   "id": "9288b090",
   "metadata": {
    "execution": {
     "iopub.execute_input": "2025-01-18T08:43:17.775942Z",
     "iopub.status.busy": "2025-01-18T08:43:17.775691Z",
     "iopub.status.idle": "2025-01-18T08:43:17.920444Z",
     "shell.execute_reply": "2025-01-18T08:43:17.919699Z"
    },
    "papermill": {
     "duration": 0.154141,
     "end_time": "2025-01-18T08:43:17.921869",
     "exception": false,
     "start_time": "2025-01-18T08:43:17.767728",
     "status": "completed"
    },
    "tags": []
   },
   "outputs": [],
   "source": [
    "from kaggle_secrets import UserSecretsClient\n",
    "user_secrets = UserSecretsClient()\n",
    "secret_value= user_secrets.get_secret(\"wandb_api_key\")"
   ]
  },
  {
   "cell_type": "code",
   "execution_count": 17,
   "id": "6158b088",
   "metadata": {
    "execution": {
     "iopub.execute_input": "2025-01-18T08:43:17.937733Z",
     "iopub.status.busy": "2025-01-18T08:43:17.937467Z",
     "iopub.status.idle": "2025-01-18T08:43:20.273689Z",
     "shell.execute_reply": "2025-01-18T08:43:20.272704Z"
    },
    "papermill": {
     "duration": 2.345779,
     "end_time": "2025-01-18T08:43:20.275262",
     "exception": false,
     "start_time": "2025-01-18T08:43:17.929483",
     "status": "completed"
    },
    "tags": []
   },
   "outputs": [
    {
     "name": "stderr",
     "output_type": "stream",
     "text": [
      "\u001b[34m\u001b[1mwandb\u001b[0m: Using wandb-core as the SDK backend.  Please refer to https://wandb.me/wandb-core for more information.\n",
      "\u001b[34m\u001b[1mwandb\u001b[0m: Currently logged in as: \u001b[33mfirojpaudel\u001b[0m (\u001b[33mfirojpaudel-madan-bhandari-memorial-college\u001b[0m). Use \u001b[1m`wandb login --relogin`\u001b[0m to force relogin\n",
      "\u001b[34m\u001b[1mwandb\u001b[0m: \u001b[33mWARNING\u001b[0m If you're specifying your api key in code, ensure this code is not shared publicly.\n",
      "\u001b[34m\u001b[1mwandb\u001b[0m: \u001b[33mWARNING\u001b[0m Consider setting the WANDB_API_KEY environment variable, or running `wandb login` from the command line.\n",
      "\u001b[34m\u001b[1mwandb\u001b[0m: Appending key for api.wandb.ai to your netrc file: /root/.netrc\n",
      "\u001b[34m\u001b[1mwandb\u001b[0m: Tracking run with wandb version 0.19.1\n",
      "\u001b[34m\u001b[1mwandb\u001b[0m: Run data is saved locally in \u001b[35m\u001b[1m/kaggle/working/wandb/run-20250118_084318-r6deebkr\u001b[0m\n",
      "\u001b[34m\u001b[1mwandb\u001b[0m: Run \u001b[1m`wandb offline`\u001b[0m to turn off syncing.\n",
      "\u001b[34m\u001b[1mwandb\u001b[0m: Syncing run \u001b[33mV01_R1\u001b[0m\n",
      "\u001b[34m\u001b[1mwandb\u001b[0m: ⭐️ View project at \u001b[34m\u001b[4mhttps://wandb.ai/firojpaudel-madan-bhandari-memorial-college/Sentiment_analysis\u001b[0m\n",
      "\u001b[34m\u001b[1mwandb\u001b[0m: 🚀 View run at \u001b[34m\u001b[4mhttps://wandb.ai/firojpaudel-madan-bhandari-memorial-college/Sentiment_analysis/runs/r6deebkr\u001b[0m\n"
     ]
    },
    {
     "data": {
      "text/html": [
       "<button onClick=\"this.nextSibling.style.display='block';this.style.display='none';\">Display W&B run</button><iframe src='https://wandb.ai/firojpaudel-madan-bhandari-memorial-college/Sentiment_analysis/runs/r6deebkr?jupyter=true' style='border:none;width:100%;height:420px;display:none;'></iframe>"
      ],
      "text/plain": [
       "<wandb.sdk.wandb_run.Run at 0x7cf85e5ddb70>"
      ]
     },
     "execution_count": 17,
     "metadata": {},
     "output_type": "execute_result"
    }
   ],
   "source": [
    "import wandb\n",
    "wandb.login(key= secret_value)\n",
    "wandb.init(project=\"Sentiment_analysis\", name=\"V01_R1\")"
   ]
  },
  {
   "cell_type": "code",
   "execution_count": 18,
   "id": "e82b0e0f",
   "metadata": {
    "execution": {
     "iopub.execute_input": "2025-01-18T08:43:20.294684Z",
     "iopub.status.busy": "2025-01-18T08:43:20.294430Z",
     "iopub.status.idle": "2025-01-18T09:37:12.745182Z",
     "shell.execute_reply": "2025-01-18T09:37:12.744278Z"
    },
    "papermill": {
     "duration": 3232.461951,
     "end_time": "2025-01-18T09:37:12.746670",
     "exception": false,
     "start_time": "2025-01-18T08:43:20.284719",
     "status": "completed"
    },
    "tags": []
   },
   "outputs": [
    {
     "name": "stderr",
     "output_type": "stream",
     "text": [
      "\u001b[34m\u001b[1mwandb\u001b[0m: \u001b[33mWARNING\u001b[0m The `run_name` is currently set to the same value as `TrainingArguments.output_dir`. If this was not intended, please specify a different run name by setting the `TrainingArguments.run_name` parameter.\n"
     ]
    },
    {
     "data": {
      "text/html": [
       "\n",
       "    <div>\n",
       "      \n",
       "      <progress value='3750' max='3750' style='width:300px; height:20px; vertical-align: middle;'></progress>\n",
       "      [3750/3750 53:49, Epoch 3/3]\n",
       "    </div>\n",
       "    <table border=\"1\" class=\"dataframe\">\n",
       "  <thead>\n",
       " <tr style=\"text-align: left;\">\n",
       "      <th>Epoch</th>\n",
       "      <th>Training Loss</th>\n",
       "      <th>Validation Loss</th>\n",
       "    </tr>\n",
       "  </thead>\n",
       "  <tbody>\n",
       "    <tr>\n",
       "      <td>1</td>\n",
       "      <td>0.228500</td>\n",
       "      <td>0.203221</td>\n",
       "    </tr>\n",
       "    <tr>\n",
       "      <td>2</td>\n",
       "      <td>0.148000</td>\n",
       "      <td>0.207157</td>\n",
       "    </tr>\n",
       "    <tr>\n",
       "      <td>3</td>\n",
       "      <td>0.092200</td>\n",
       "      <td>0.231504</td>\n",
       "    </tr>\n",
       "  </tbody>\n",
       "</table><p>"
      ],
      "text/plain": [
       "<IPython.core.display.HTML object>"
      ]
     },
     "metadata": {},
     "output_type": "display_data"
    },
    {
     "data": {
      "text/plain": [
       "TrainOutput(global_step=3750, training_loss=0.16369186248779297, metrics={'train_runtime': 3232.0878, 'train_samples_per_second': 37.128, 'train_steps_per_second': 1.16, 'total_flos': 1.589608783872e+16, 'train_loss': 0.16369186248779297, 'epoch': 3.0})"
      ]
     },
     "execution_count": 18,
     "metadata": {},
     "output_type": "execute_result"
    }
   ],
   "source": [
    "trainer.train()"
   ]
  },
  {
   "cell_type": "code",
   "execution_count": 19,
   "id": "b9ee6a15",
   "metadata": {
    "execution": {
     "iopub.execute_input": "2025-01-18T09:37:12.764564Z",
     "iopub.status.busy": "2025-01-18T09:37:12.764274Z",
     "iopub.status.idle": "2025-01-18T09:38:31.982590Z",
     "shell.execute_reply": "2025-01-18T09:38:31.981455Z"
    },
    "papermill": {
     "duration": 79.228495,
     "end_time": "2025-01-18T09:38:31.984055",
     "exception": false,
     "start_time": "2025-01-18T09:37:12.755560",
     "status": "completed"
    },
    "tags": []
   },
   "outputs": [
    {
     "data": {
      "text/html": [],
      "text/plain": [
       "<IPython.core.display.HTML object>"
      ]
     },
     "metadata": {},
     "output_type": "display_data"
    },
    {
     "name": "stdout",
     "output_type": "stream",
     "text": [
      "{'eval_loss': 0.23150427639484406, 'eval_runtime': 79.2088, 'eval_samples_per_second': 126.249, 'eval_steps_per_second': 3.952, 'epoch': 3.0}\n"
     ]
    }
   ],
   "source": [
    "## Finally evaluating the results \n",
    "\n",
    "results = trainer.evaluate()\n",
    "\n",
    "print(results)"
   ]
  },
  {
   "cell_type": "markdown",
   "id": "2d2d5255",
   "metadata": {
    "papermill": {
     "duration": 0.008132,
     "end_time": "2025-01-18T09:38:32.001255",
     "exception": false,
     "start_time": "2025-01-18T09:38:31.993123",
     "status": "completed"
    },
    "tags": []
   },
   "source": [
    "Might was well visualize the metrics:"
   ]
  },
  {
   "cell_type": "code",
   "execution_count": 20,
   "id": "2c9e02e8",
   "metadata": {
    "execution": {
     "iopub.execute_input": "2025-01-18T09:38:32.019061Z",
     "iopub.status.busy": "2025-01-18T09:38:32.018805Z",
     "iopub.status.idle": "2025-01-18T09:38:32.201102Z",
     "shell.execute_reply": "2025-01-18T09:38:32.200150Z"
    },
    "papermill": {
     "duration": 0.192696,
     "end_time": "2025-01-18T09:38:32.202411",
     "exception": false,
     "start_time": "2025-01-18T09:38:32.009715",
     "status": "completed"
    },
    "tags": []
   },
   "outputs": [
    {
     "data": {
      "image/png": "[encoded data removed]",
      "text/plain": [
       "<Figure size 1000x600 with 1 Axes>"
      ]
     },
     "metadata": {},
     "output_type": "display_data"
    }
   ],
   "source": [
    "## Plotting graphs\n",
    "import matplotlib.pyplot as plt\n",
    "import seaborn as sns\n",
    "\n",
    "# Extract logs\n",
    "train_loss = [log[\"loss\"] for log in metrics_callback.history if \"loss\" in log]\n",
    "eval_loss = [log[\"eval_loss\"] for log in metrics_callback.history if \"eval_loss\" in log]\n",
    "steps = range(len(train_loss))\n",
    "\n",
    "# Plot Loss vs. Steps\n",
    "plt.figure(figsize=(10, 6))\n",
    "plt.plot(steps, train_loss, label=\"Training Loss\")\n",
    "plt.plot(steps, eval_loss, label=\"Validation Loss\")\n",
    "plt.xlabel(\"Steps\")\n",
    "plt.ylabel(\"Loss\")\n",
    "plt.title(\"Training and Validation Loss\")\n",
    "plt.legend()\n",
    "plt.show()"
   ]
  },
  {
   "cell_type": "code",
   "execution_count": 21,
   "id": "6c68931b",
   "metadata": {
    "execution": {
     "iopub.execute_input": "2025-01-18T09:38:32.221454Z",
     "iopub.status.busy": "2025-01-18T09:38:32.221161Z",
     "iopub.status.idle": "2025-01-18T09:39:52.327766Z",
     "shell.execute_reply": "2025-01-18T09:39:52.326718Z"
    },
    "papermill": {
     "duration": 80.117389,
     "end_time": "2025-01-18T09:39:52.329031",
     "exception": false,
     "start_time": "2025-01-18T09:38:32.211642",
     "status": "completed"
    },
    "tags": []
   },
   "outputs": [
    {
     "data": {
      "image/png": "[encoded data removed]",
      "text/plain": [
       "<Figure size 640x480 with 2 Axes>"
      ]
     },
     "metadata": {},
     "output_type": "display_data"
    },
    {
     "name": "stdout",
     "output_type": "stream",
     "text": [
      "              precision    recall  f1-score   support\n",
      "\n",
      "    Negative       0.93      0.93      0.93      4972\n",
      "    Positive       0.93      0.94      0.93      5028\n",
      "\n",
      "    accuracy                           0.93     10000\n",
      "   macro avg       0.93      0.93      0.93     10000\n",
      "weighted avg       0.93      0.93      0.93     10000\n",
      "\n"
     ]
    }
   ],
   "source": [
    "## Confusion Matrix and classificationreport as well\n",
    "from sklearn.metrics import ConfusionMatrixDisplay, classification_report\n",
    "import numpy as np\n",
    "\n",
    "# Predictions on the test set\n",
    "predictions = trainer.predict(test_dataset)\n",
    "y_true = np.array(test_dataset[\"labels\"])\n",
    "y_pred = np.argmax(predictions.predictions, axis=1)\n",
    "\n",
    "# Confusion Matrix\n",
    "ConfusionMatrixDisplay.from_predictions(y_true, y_pred, cmap=\"Blues\")\n",
    "plt.title(\"Confusion Matrix\")\n",
    "plt.show()\n",
    "\n",
    "# Classification Report\n",
    "print(classification_report(y_true, y_pred, target_names=[\"Negative\", \"Positive\"]))"
   ]
  },
  {
   "cell_type": "code",
   "execution_count": 22,
   "id": "e402e874",
   "metadata": {
    "execution": {
     "iopub.execute_input": "2025-01-18T09:39:52.350245Z",
     "iopub.status.busy": "2025-01-18T09:39:52.349987Z",
     "iopub.status.idle": "2025-01-18T09:39:52.997649Z",
     "shell.execute_reply": "2025-01-18T09:39:52.996824Z"
    },
    "papermill": {
     "duration": 0.659354,
     "end_time": "2025-01-18T09:39:52.998984",
     "exception": false,
     "start_time": "2025-01-18T09:39:52.339630",
     "status": "completed"
    },
    "tags": []
   },
   "outputs": [
    {
     "data": {
      "text/plain": [
       "('./senti_finetuned/tokenizer_config.json',\n",
       " './senti_finetuned/special_tokens_map.json',\n",
       " './senti_finetuned/vocab.txt',\n",
       " './senti_finetuned/added_tokens.json',\n",
       " './senti_finetuned/tokenizer.json')"
      ]
     },
     "execution_count": 22,
     "metadata": {},
     "output_type": "execute_result"
    }
   ],
   "source": [
    "## Saving the finetuned model.. Incase I need for future use case \n",
    "\n",
    "model.save_pretrained('./senti_finetuned')\n",
    "tokenizer.save_pretrained('./senti_finetuned')"
   ]
  },
  {
   "cell_type": "code",
   "execution_count": 23,
   "id": "3c9a6b1f",
   "metadata": {
    "execution": {
     "iopub.execute_input": "2025-01-18T09:39:53.018778Z",
     "iopub.status.busy": "2025-01-18T09:39:53.018514Z",
     "iopub.status.idle": "2025-01-18T09:40:07.103191Z",
     "shell.execute_reply": "2025-01-18T09:40:07.102191Z"
    },
    "papermill": {
     "duration": 14.095946,
     "end_time": "2025-01-18T09:40:07.104704",
     "exception": false,
     "start_time": "2025-01-18T09:39:53.008758",
     "status": "completed"
    },
    "tags": []
   },
   "outputs": [
    {
     "name": "stdout",
     "output_type": "stream",
     "text": [
      "  adding: kaggle/working/senti_finetuned/ (stored 0%)\r\n",
      "  adding: kaggle/working/senti_finetuned/model.safetensors (deflated 8%)\r\n",
      "  adding: kaggle/working/senti_finetuned/vocab.txt (deflated 53%)\r\n",
      "  adding: kaggle/working/senti_finetuned/tokenizer.json (deflated 71%)\r\n",
      "  adding: kaggle/working/senti_finetuned/config.json (deflated 46%)\r\n",
      "  adding: kaggle/working/senti_finetuned/special_tokens_map.json (deflated 42%)\r\n",
      "  adding: kaggle/working/senti_finetuned/tokenizer_config.json (deflated 75%)\r\n"
     ]
    }
   ],
   "source": [
    "## compressing the folder before saving\n",
    "!zip -r sentiment_imdb.zip /kaggle/working/senti_finetuned"
   ]
  },
  {
   "cell_type": "markdown",
   "id": "f2fc6f3b",
   "metadata": {
    "execution": {
     "iopub.execute_input": "2025-01-18T07:28:25.495397Z",
     "iopub.status.busy": "2025-01-18T07:28:25.495065Z",
     "iopub.status.idle": "2025-01-18T07:28:25.501936Z",
     "shell.execute_reply": "2025-01-18T07:28:25.500699Z",
     "shell.execute_reply.started": "2025-01-18T07:28:25.495370Z"
    },
    "papermill": {
     "duration": 0.009333,
     "end_time": "2025-01-18T09:40:07.123926",
     "exception": false,
     "start_time": "2025-01-18T09:40:07.114593",
     "status": "completed"
    },
    "tags": []
   },
   "source": [
    "## Testing phase ... \n",
    "\n",
    "---"
   ]
  },
  {
   "cell_type": "code",
   "execution_count": 24,
   "id": "bfb85bc3",
   "metadata": {
    "execution": {
     "iopub.execute_input": "2025-01-18T09:40:07.143784Z",
     "iopub.status.busy": "2025-01-18T09:40:07.143524Z",
     "iopub.status.idle": "2025-01-18T09:40:07.199462Z",
     "shell.execute_reply": "2025-01-18T09:40:07.198431Z"
    },
    "papermill": {
     "duration": 0.067709,
     "end_time": "2025-01-18T09:40:07.201017",
     "exception": false,
     "start_time": "2025-01-18T09:40:07.133308",
     "status": "completed"
    },
    "tags": []
   },
   "outputs": [],
   "source": [
    "# Loading the finetuned model:\n",
    "\n",
    "f_model= AutoModelForSequenceClassification.from_pretrained('/kaggle/working/senti_finetuned')\n",
    "f_tokenizer = AutoTokenizer.from_pretrained('/kaggle/working/senti_finetuned')"
   ]
  },
  {
   "cell_type": "markdown",
   "id": "eab10c12",
   "metadata": {
    "papermill": {
     "duration": 0.009144,
     "end_time": "2025-01-18T09:40:07.219965",
     "exception": false,
     "start_time": "2025-01-18T09:40:07.210821",
     "status": "completed"
    },
    "tags": []
   },
   "source": [
    "Could have just used the pipeline --> \"sentiment_analysis\" but trying a lengthier way..."
   ]
  },
  {
   "cell_type": "code",
   "execution_count": 25,
   "id": "970adc64",
   "metadata": {
    "execution": {
     "iopub.execute_input": "2025-01-18T09:40:07.240839Z",
     "iopub.status.busy": "2025-01-18T09:40:07.240593Z",
     "iopub.status.idle": "2025-01-18T09:40:07.244086Z",
     "shell.execute_reply": "2025-01-18T09:40:07.243269Z"
    },
    "papermill": {
     "duration": 0.014777,
     "end_time": "2025-01-18T09:40:07.245317",
     "exception": false,
     "start_time": "2025-01-18T09:40:07.230540",
     "status": "completed"
    },
    "tags": []
   },
   "outputs": [],
   "source": [
    "## preparing some lists of reviews to pass into the finetuned model \n",
    "\n",
    "texts = [\n",
    "    \"Ahhh, it was meh. Music was good but the action was so bad. Couldn't even bear the whole thing and dropped.\", \n",
    "    \"I love the couple. They are just made for each other\", \n",
    "    \"The pacing of the film is also impeccable. It moves steadily forward, never lingering too long on one plot point, but taking its time to explore the nuances of the characters' internal struggles. The script is sharp, witty, and thought-provoking, offering moments of levity amid the tension, and the score by renowned composer Michael Porter elevates every scene with its hauntingly beautiful orchestral arrangements\", \n",
    "    \"While the cinematography is competent, it doesn’t add much to the film’s overall atmosphere. The bleak and dark tones, which are meant to reflect the impending disaster, become monotonous and uninteresting after a while. Instead of building tension, the visuals start to feel repetitive and uninspired.\",\n",
    "    \"The Tale of a Lost Sock: Once upon a time, there was a sock, / Who got lost from its cozy flock. / It slipped and it tripped, / In the laundry it dipped, / And now it just wants to talk! / It said, 'Where is my pair? I feel bare!' / As it roamed the laundry room, through the air.\",\n",
    "    \"The film had stunning visuals and a captivating soundtrack, but the storyline was convoluted and the characters lacked depth.\"\n",
    "]"
   ]
  },
  {
   "cell_type": "code",
   "execution_count": 26,
   "id": "f2917327",
   "metadata": {
    "execution": {
     "iopub.execute_input": "2025-01-18T09:40:07.264790Z",
     "iopub.status.busy": "2025-01-18T09:40:07.264576Z",
     "iopub.status.idle": "2025-01-18T09:40:07.269718Z",
     "shell.execute_reply": "2025-01-18T09:40:07.269106Z"
    },
    "papermill": {
     "duration": 0.016189,
     "end_time": "2025-01-18T09:40:07.270895",
     "exception": false,
     "start_time": "2025-01-18T09:40:07.254706",
     "status": "completed"
    },
    "tags": []
   },
   "outputs": [],
   "source": [
    "#@ tokenizing the input texts\n",
    "\n",
    "inputs = f_tokenizer(texts, padding= True, truncation= True, max_length= 512, return_tensors='pt')"
   ]
  },
  {
   "cell_type": "code",
   "execution_count": 27,
   "id": "cc739c12",
   "metadata": {
    "execution": {
     "iopub.execute_input": "2025-01-18T09:40:07.290653Z",
     "iopub.status.busy": "2025-01-18T09:40:07.290440Z",
     "iopub.status.idle": "2025-01-18T09:40:07.404962Z",
     "shell.execute_reply": "2025-01-18T09:40:07.404085Z"
    },
    "papermill": {
     "duration": 0.125963,
     "end_time": "2025-01-18T09:40:07.406421",
     "exception": false,
     "start_time": "2025-01-18T09:40:07.280458",
     "status": "completed"
    },
    "tags": []
   },
   "outputs": [],
   "source": [
    "##@ Using GPU if available\n",
    "import torch\n",
    "\n",
    "device = torch.device(\"cuda\" if torch.cuda.is_available() else \"cpu\")\n",
    "f_model = f_model.to(device)\n",
    "inputs = {key: value.to(device) for key, value in inputs.items()}"
   ]
  },
  {
   "cell_type": "code",
   "execution_count": 28,
   "id": "36baad48",
   "metadata": {
    "execution": {
     "iopub.execute_input": "2025-01-18T09:40:07.427050Z",
     "iopub.status.busy": "2025-01-18T09:40:07.426827Z",
     "iopub.status.idle": "2025-01-18T09:40:07.440605Z",
     "shell.execute_reply": "2025-01-18T09:40:07.439980Z"
    },
    "papermill": {
     "duration": 0.025547,
     "end_time": "2025-01-18T09:40:07.441767",
     "exception": false,
     "start_time": "2025-01-18T09:40:07.416220",
     "status": "completed"
    },
    "tags": []
   },
   "outputs": [],
   "source": [
    "## Getting  the predictions\n",
    "with torch.no_grad():\n",
    "    outputs = f_model(**inputs)"
   ]
  },
  {
   "cell_type": "code",
   "execution_count": 29,
   "id": "468fc046",
   "metadata": {
    "execution": {
     "iopub.execute_input": "2025-01-18T09:40:07.461140Z",
     "iopub.status.busy": "2025-01-18T09:40:07.460930Z",
     "iopub.status.idle": "2025-01-18T09:40:07.485843Z",
     "shell.execute_reply": "2025-01-18T09:40:07.485225Z"
    },
    "papermill": {
     "duration": 0.036034,
     "end_time": "2025-01-18T09:40:07.487094",
     "exception": false,
     "start_time": "2025-01-18T09:40:07.451060",
     "status": "completed"
    },
    "tags": []
   },
   "outputs": [],
   "source": [
    "## Computing prob and predicts\n",
    "\n",
    "probab = torch.nn.functional.softmax(outputs.logits, dim=-1)\n",
    "prediction = torch.argmax(probab, dim=-1)"
   ]
  },
  {
   "cell_type": "code",
   "execution_count": 30,
   "id": "c5d82f72",
   "metadata": {
    "execution": {
     "iopub.execute_input": "2025-01-18T09:40:07.506947Z",
     "iopub.status.busy": "2025-01-18T09:40:07.506734Z",
     "iopub.status.idle": "2025-01-18T09:40:07.521028Z",
     "shell.execute_reply": "2025-01-18T09:40:07.519910Z"
    },
    "papermill": {
     "duration": 0.025423,
     "end_time": "2025-01-18T09:40:07.522249",
     "exception": false,
     "start_time": "2025-01-18T09:40:07.496826",
     "status": "completed"
    },
    "tags": []
   },
   "outputs": [
    {
     "name": "stdout",
     "output_type": "stream",
     "text": [
      "Text: Ahhh, it was meh. Music was good but the action was so bad. Couldn't even bear the whole thing and dropped.\n",
      "Sentiment: Negative (Confidence: 0.9912)\n",
      "\n",
      "Text: I love the couple. They are just made for each other\n",
      "Sentiment: Positive (Confidence: 0.9954)\n",
      "\n",
      "Text: The pacing of the film is also impeccable. It moves steadily forward, never lingering too long on one plot point, but taking its time to explore the nuances of the characters' internal struggles. The script is sharp, witty, and thought-provoking, offering moments of levity amid the tension, and the score by renowned composer Michael Porter elevates every scene with its hauntingly beautiful orchestral arrangements\n",
      "Sentiment: Positive (Confidence: 0.9972)\n",
      "\n",
      "Text: While the cinematography is competent, it doesn’t add much to the film’s overall atmosphere. The bleak and dark tones, which are meant to reflect the impending disaster, become monotonous and uninteresting after a while. Instead of building tension, the visuals start to feel repetitive and uninspired.\n",
      "Sentiment: Negative (Confidence: 0.9930)\n",
      "\n",
      "Text: The Tale of a Lost Sock: Once upon a time, there was a sock, / Who got lost from its cozy flock. / It slipped and it tripped, / In the laundry it dipped, / And now it just wants to talk! / It said, 'Where is my pair? I feel bare!' / As it roamed the laundry room, through the air.\n",
      "Sentiment: Positive (Confidence: 0.6270)\n",
      "\n",
      "Text: The film had stunning visuals and a captivating soundtrack, but the storyline was convoluted and the characters lacked depth.\n",
      "Sentiment: Negative (Confidence: 0.9903)\n",
      "\n"
     ]
    }
   ],
   "source": [
    "## Mapping predictions to labels\n",
    "labels = {0: \"Negative\", 1: \"Positive\"}\n",
    "results = []\n",
    "\n",
    "for i, text in enumerate(texts):\n",
    "    label_id = prediction[i].item()\n",
    "    confidence = probab[i][label_id].item()\n",
    "    sentiment = labels[label_id]\n",
    "    results.append({\n",
    "        \"text\": text,\n",
    "        \"sentiment\": sentiment,\n",
    "        \"confidence\": confidence\n",
    "    })\n",
    "\n",
    "## Display the results\n",
    "for result in results:\n",
    "    print(f\"Text: {result['text']}\")\n",
    "    print(f\"Sentiment: {result['sentiment']} (Confidence: {result['confidence']:.4f})\")\n",
    "    print()"
   ]
  },
  {
   "cell_type": "markdown",
   "id": "6d87e9c8",
   "metadata": {
    "papermill": {
     "duration": 0.009607,
     "end_time": "2025-01-18T09:40:07.541883",
     "exception": false,
     "start_time": "2025-01-18T09:40:07.532276",
     "status": "completed"
    },
    "tags": []
   },
   "source": [
    "It's working pretty fine tbh.\n",
    "\n",
    "---"
   ]
  }
 ],
 "metadata": {
  "kaggle": {
   "accelerator": "nvidiaTeslaT4",
   "dataSources": [
    {
     "datasetId": 134715,
     "sourceId": 320111,
     "sourceType": "datasetVersion"
    }
   ],
   "dockerImageVersionId": 30840,
   "isGpuEnabled": true,
   "isInternetEnabled": true,
   "language": "python",
   "sourceType": "notebook"
  },
  "kernelspec": {
   "display_name": "Python 3",
   "language": "python",
   "name": "python3"
  },
  "language_info": {
   "codemirror_mode": {
    "name": "ipython",
    "version": 3
   },
   "file_extension": ".py",
   "mimetype": "text/x-python",
   "name": "python",
   "nbconvert_exporter": "python",
   "pygments_lexer": "ipython3",
   "version": "3.10.12"
  },
  "papermill": {
   "default_parameters": {},
   "duration": 3476.24067,
   "end_time": "2025-01-18T09:40:10.649211",
   "environment_variables": {},
   "exception": null,
   "input_path": "__notebook__.ipynb",
   "output_path": "__notebook__.ipynb",
   "parameters": {},
   "start_time": "2025-01-18T08:42:14.408541",
   "version": "2.6.0"
  },
  "widgets": {
   "application/vnd.jupyter.widget-state+json": {
    "state": {
     "036bdcbe933e4bc68ce8d79a38a13d88": {
      "model_module": "@jupyter-widgets/base",
      "model_module_version": "2.0.0",
      "model_name": "LayoutModel",
      "state": {
       "_model_module": "@jupyter-widgets/base",
       "_model_module_version": "2.0.0",
       "_model_name": "LayoutModel",
       "_view_count": null,
       "_view_module": "@jupyter-widgets/base",
       "_view_module_version": "2.0.0",
       "_view_name": "LayoutView",
       "align_content": null,
       "align_items": null,
       "align_self": null,
       "border_bottom": null,
       "border_left": null,
       "border_right": null,
       "border_top": null,
       "bottom": null,
       "display": null,
       "flex": null,
       "flex_flow": null,
       "grid_area": null,
       "grid_auto_columns": null,
       "grid_auto_flow": null,
       "grid_auto_rows": null,
       "grid_column": null,
       "grid_gap": null,
       "grid_row": null,
       "grid_template_areas": null,
       "grid_template_columns": null,
       "grid_template_rows": null,
       "height": null,
       "justify_content": null,
       "justify_items": null,
       "left": null,
       "margin": null,
       "max_height": null,
       "max_width": null,
       "min_height": null,
       "min_width": null,
       "object_fit": null,
       "object_position": null,
       "order": null,
       "overflow": null,
       "padding": null,
       "right": null,
       "top": null,
       "visibility": null,
       "width": null
      }
     },
     "038948dc9043464eb36c51e26c07201c": {
      "model_module": "@jupyter-widgets/controls",
      "model_module_version": "2.0.0",
      "model_name": "HTMLModel",
      "state": {
       "_dom_classes": [],
       "_model_module": "@jupyter-widgets/controls",
       "_model_module_version": "2.0.0",
       "_model_name": "HTMLModel",
       "_view_count": null,
       "_view_module": "@jupyter-widgets/controls",
       "_view_module_version": "2.0.0",
       "_view_name": "HTMLView",
       "description": "",
       "description_allow_html": false,
       "layout": "IPY_MODEL_036bdcbe933e4bc68ce8d79a38a13d88",
       "placeholder": "​",
       "style": "IPY_MODEL_0d9a1d8e52674a46b75cd5887d0074da",
       "tabbable": null,
       "tooltip": null,
       "value": " 232k/232k [00:00&lt;00:00, 7.45MB/s]"
      }
     },
     "05f6fcb780224d0d9dab01cee76a09be": {
      "model_module": "@jupyter-widgets/controls",
      "model_module_version": "2.0.0",
      "model_name": "ProgressStyleModel",
      "state": {
       "_model_module": "@jupyter-widgets/controls",
       "_model_module_version": "2.0.0",
       "_model_name": "ProgressStyleModel",
       "_view_count": null,
       "_view_module": "@jupyter-widgets/base",
       "_view_module_version": "2.0.0",
       "_view_name": "StyleView",
       "bar_color": null,
       "description_width": ""
      }
     },
     "0763ccf159c24a519201ba5551bfaa25": {
      "model_module": "@jupyter-widgets/controls",
      "model_module_version": "2.0.0",
      "model_name": "HTMLModel",
      "state": {
       "_dom_classes": [],
       "_model_module": "@jupyter-widgets/controls",
       "_model_module_version": "2.0.0",
       "_model_name": "HTMLModel",
       "_view_count": null,
       "_view_module": "@jupyter-widgets/controls",
       "_view_module_version": "2.0.0",
       "_view_name": "HTMLView",
       "description": "",
       "description_allow_html": false,
       "layout": "IPY_MODEL_c3689975729e459c844a553b8ea42a12",
       "placeholder": "​",
       "style": "IPY_MODEL_e714e61c8cad456297ad6d5d6626ad75",
       "tabbable": null,
       "tooltip": null,
       "value": " 466k/466k [00:00&lt;00:00, 24.3MB/s]"
      }
     },
     "0d9a1d8e52674a46b75cd5887d0074da": {
      "model_module": "@jupyter-widgets/controls",
      "model_module_version": "2.0.0",
      "model_name": "HTMLStyleModel",
      "state": {
       "_model_module": "@jupyter-widgets/controls",
       "_model_module_version": "2.0.0",
       "_model_name": "HTMLStyleModel",
       "_view_count": null,
       "_view_module": "@jupyter-widgets/base",
       "_view_module_version": "2.0.0",
       "_view_name": "StyleView",
       "background": null,
       "description_width": "",
       "font_size": null,
       "text_color": null
      }
     },
     "0f32c94d60b34f81b3c6dc7fec49a54b": {
      "model_module": "@jupyter-widgets/base",
      "model_module_version": "2.0.0",
      "model_name": "LayoutModel",
      "state": {
       "_model_module": "@jupyter-widgets/base",
       "_model_module_version": "2.0.0",
       "_model_name": "LayoutModel",
       "_view_count": null,
       "_view_module": "@jupyter-widgets/base",
       "_view_module_version": "2.0.0",
       "_view_name": "LayoutView",
       "align_content": null,
       "align_items": null,
       "align_self": null,
       "border_bottom": null,
       "border_left": null,
       "border_right": null,
       "border_top": null,
       "bottom": null,
       "display": null,
       "flex": null,
       "flex_flow": null,
       "grid_area": null,
       "grid_auto_columns": null,
       "grid_auto_flow": null,
       "grid_auto_rows": null,
       "grid_column": null,
       "grid_gap": null,
       "grid_row": null,
       "grid_template_areas": null,
       "grid_template_columns": null,
       "grid_template_rows": null,
       "height": null,
       "justify_content": null,
       "justify_items": null,
       "left": null,
       "margin": null,
       "max_height": null,
       "max_width": null,
       "min_height": null,
       "min_width": null,
       "object_fit": null,
       "object_position": null,
       "order": null,
       "overflow": null,
       "padding": null,
       "right": null,
       "top": null,
       "visibility": null,
       "width": null
      }
     },
     "1829016cc121401e80e48fe37141f090": {
      "model_module": "@jupyter-widgets/controls",
      "model_module_version": "2.0.0",
      "model_name": "FloatProgressModel",
      "state": {
       "_dom_classes": [],
       "_model_module": "@jupyter-widgets/controls",
       "_model_module_version": "2.0.0",
       "_model_name": "FloatProgressModel",
       "_view_count": null,
       "_view_module": "@jupyter-widgets/controls",
       "_view_module_version": "2.0.0",
       "_view_name": "ProgressView",
       "bar_style": "success",
       "description": "",
       "description_allow_html": false,
       "layout": "IPY_MODEL_5d04de6d77f1464cb4b83a0499fc51bf",
       "max": 231508.0,
       "min": 0.0,
       "orientation": "horizontal",
       "style": "IPY_MODEL_c3a9c7c068cc488a89fc2cc46e74b4c8",
       "tabbable": null,
       "tooltip": null,
       "value": 231508.0
      }
     },
     "185928024e2f4b25a6258d983de2f5b0": {
      "model_module": "@jupyter-widgets/controls",
      "model_module_version": "2.0.0",
      "model_name": "HTMLModel",
      "state": {
       "_dom_classes": [],
       "_model_module": "@jupyter-widgets/controls",
       "_model_module_version": "2.0.0",
       "_model_name": "HTMLModel",
       "_view_count": null,
       "_view_module": "@jupyter-widgets/controls",
       "_view_module_version": "2.0.0",
       "_view_name": "HTMLView",
       "description": "",
       "description_allow_html": false,
       "layout": "IPY_MODEL_b795d95aa19b4470b267dd331198b73d",
       "placeholder": "​",
       "style": "IPY_MODEL_c12ec8311fc544458fed99a67a8c5db3",
       "tabbable": null,
       "tooltip": null,
       "value": "tokenizer.json: 100%"
      }
     },
     "1d64c7cb38434dc99ef03006cd9134d9": {
      "model_module": "@jupyter-widgets/base",
      "model_module_version": "2.0.0",
      "model_name": "LayoutModel",
      "state": {
       "_model_module": "@jupyter-widgets/base",
       "_model_module_version": "2.0.0",
       "_model_name": "LayoutModel",
       "_view_count": null,
       "_view_module": "@jupyter-widgets/base",
       "_view_module_version": "2.0.0",
       "_view_name": "LayoutView",
       "align_content": null,
       "align_items": null,
       "align_self": null,
       "border_bottom": null,
       "border_left": null,
       "border_right": null,
       "border_top": null,
       "bottom": null,
       "display": null,
       "flex": null,
       "flex_flow": null,
       "grid_area": null,
       "grid_auto_columns": null,
       "grid_auto_flow": null,
       "grid_auto_rows": null,
       "grid_column": null,
       "grid_gap": null,
       "grid_row": null,
       "grid_template_areas": null,
       "grid_template_columns": null,
       "grid_template_rows": null,
       "height": null,
       "justify_content": null,
       "justify_items": null,
       "left": null,
       "margin": null,
       "max_height": null,
       "max_width": null,
       "min_height": null,
       "min_width": null,
       "object_fit": null,
       "object_position": null,
       "order": null,
       "overflow": null,
       "padding": null,
       "right": null,
       "top": null,
       "visibility": null,
       "width": null
      }
     },
     "1f007dd744d14559a5127a9639ef7848": {
      "model_module": "@jupyter-widgets/controls",
      "model_module_version": "2.0.0",
      "model_name": "HTMLStyleModel",
      "state": {
       "_model_module": "@jupyter-widgets/controls",
       "_model_module_version": "2.0.0",
       "_model_name": "HTMLStyleModel",
       "_view_count": null,
       "_view_module": "@jupyter-widgets/base",
       "_view_module_version": "2.0.0",
       "_view_name": "StyleView",
       "background": null,
       "description_width": "",
       "font_size": null,
       "text_color": null
      }
     },
     "25231672ee634bf2aab3482264217b96": {
      "model_module": "@jupyter-widgets/base",
      "model_module_version": "2.0.0",
      "model_name": "LayoutModel",
      "state": {
       "_model_module": "@jupyter-widgets/base",
       "_model_module_version": "2.0.0",
       "_model_name": "LayoutModel",
       "_view_count": null,
       "_view_module": "@jupyter-widgets/base",
       "_view_module_version": "2.0.0",
       "_view_name": "LayoutView",
       "align_content": null,
       "align_items": null,
       "align_self": null,
       "border_bottom": null,
       "border_left": null,
       "border_right": null,
       "border_top": null,
       "bottom": null,
       "display": null,
       "flex": null,
       "flex_flow": null,
       "grid_area": null,
       "grid_auto_columns": null,
       "grid_auto_flow": null,
       "grid_auto_rows": null,
       "grid_column": null,
       "grid_gap": null,
       "grid_row": null,
       "grid_template_areas": null,
       "grid_template_columns": null,
       "grid_template_rows": null,
       "height": null,
       "justify_content": null,
       "justify_items": null,
       "left": null,
       "margin": null,
       "max_height": null,
       "max_width": null,
       "min_height": null,
       "min_width": null,
       "object_fit": null,
       "object_position": null,
       "order": null,
       "overflow": null,
       "padding": null,
       "right": null,
       "top": null,
       "visibility": null,
       "width": null
      }
     },
     "2a5d2a827e3c4a998963c60ab58948d1": {
      "model_module": "@jupyter-widgets/base",
      "model_module_version": "2.0.0",
      "model_name": "LayoutModel",
      "state": {
       "_model_module": "@jupyter-widgets/base",
       "_model_module_version": "2.0.0",
       "_model_name": "LayoutModel",
       "_view_count": null,
       "_view_module": "@jupyter-widgets/base",
       "_view_module_version": "2.0.0",
       "_view_name": "LayoutView",
       "align_content": null,
       "align_items": null,
       "align_self": null,
       "border_bottom": null,
       "border_left": null,
       "border_right": null,
       "border_top": null,
       "bottom": null,
       "display": null,
       "flex": null,
       "flex_flow": null,
       "grid_area": null,
       "grid_auto_columns": null,
       "grid_auto_flow": null,
       "grid_auto_rows": null,
       "grid_column": null,
       "grid_gap": null,
       "grid_row": null,
       "grid_template_areas": null,
       "grid_template_columns": null,
       "grid_template_rows": null,
       "height": null,
       "justify_content": null,
       "justify_items": null,
       "left": null,
       "margin": null,
       "max_height": null,
       "max_width": null,
       "min_height": null,
       "min_width": null,
       "object_fit": null,
       "object_position": null,
       "order": null,
       "overflow": null,
       "padding": null,
       "right": null,
       "top": null,
       "visibility": null,
       "width": null
      }
     },
     "2ef519a6c95346c78a26e6cbc80b2bec": {
      "model_module": "@jupyter-widgets/base",
      "model_module_version": "2.0.0",
      "model_name": "LayoutModel",
      "state": {
       "_model_module": "@jupyter-widgets/base",
       "_model_module_version": "2.0.0",
       "_model_name": "LayoutModel",
       "_view_count": null,
       "_view_module": "@jupyter-widgets/base",
       "_view_module_version": "2.0.0",
       "_view_name": "LayoutView",
       "align_content": null,
       "align_items": null,
       "align_self": null,
       "border_bottom": null,
       "border_left": null,
       "border_right": null,
       "border_top": null,
       "bottom": null,
       "display": null,
       "flex": null,
       "flex_flow": null,
       "grid_area": null,
       "grid_auto_columns": null,
       "grid_auto_flow": null,
       "grid_auto_rows": null,
       "grid_column": null,
       "grid_gap": null,
       "grid_row": null,
       "grid_template_areas": null,
       "grid_template_columns": null,
       "grid_template_rows": null,
       "height": null,
       "justify_content": null,
       "justify_items": null,
       "left": null,
       "margin": null,
       "max_height": null,
       "max_width": null,
       "min_height": null,
       "min_width": null,
       "object_fit": null,
       "object_position": null,
       "order": null,
       "overflow": null,
       "padding": null,
       "right": null,
       "top": null,
       "visibility": null,
       "width": null
      }
     },
     "34300ac2104749ddb01911ddc7bb4e47": {
      "model_module": "@jupyter-widgets/controls",
      "model_module_version": "2.0.0",
      "model_name": "FloatProgressModel",
      "state": {
       "_dom_classes": [],
       "_model_module": "@jupyter-widgets/controls",
       "_model_module_version": "2.0.0",
       "_model_name": "FloatProgressModel",
       "_view_count": null,
       "_view_module": "@jupyter-widgets/controls",
       "_view_module_version": "2.0.0",
       "_view_name": "ProgressView",
       "bar_style": "success",
       "description": "",
       "description_allow_html": false,
       "layout": "IPY_MODEL_0f32c94d60b34f81b3c6dc7fec49a54b",
       "max": 48.0,
       "min": 0.0,
       "orientation": "horizontal",
       "style": "IPY_MODEL_cefdd24fd80a47e38c0c94647a982a9d",
       "tabbable": null,
       "tooltip": null,
       "value": 48.0
      }
     },
     "3992a93f7a924cddaef4719074727325": {
      "model_module": "@jupyter-widgets/base",
      "model_module_version": "2.0.0",
      "model_name": "LayoutModel",
      "state": {
       "_model_module": "@jupyter-widgets/base",
       "_model_module_version": "2.0.0",
       "_model_name": "LayoutModel",
       "_view_count": null,
       "_view_module": "@jupyter-widgets/base",
       "_view_module_version": "2.0.0",
       "_view_name": "LayoutView",
       "align_content": null,
       "align_items": null,
       "align_self": null,
       "border_bottom": null,
       "border_left": null,
       "border_right": null,
       "border_top": null,
       "bottom": null,
       "display": null,
       "flex": null,
       "flex_flow": null,
       "grid_area": null,
       "grid_auto_columns": null,
       "grid_auto_flow": null,
       "grid_auto_rows": null,
       "grid_column": null,
       "grid_gap": null,
       "grid_row": null,
       "grid_template_areas": null,
       "grid_template_columns": null,
       "grid_template_rows": null,
       "height": null,
       "justify_content": null,
       "justify_items": null,
       "left": null,
       "margin": null,
       "max_height": null,
       "max_width": null,
       "min_height": null,
       "min_width": null,
       "object_fit": null,
       "object_position": null,
       "order": null,
       "overflow": null,
       "padding": null,
       "right": null,
       "top": null,
       "visibility": null,
       "width": null
      }
     },
     "3a94483aa31f4b8f925ad64900aaabe0": {
      "model_module": "@jupyter-widgets/controls",
      "model_module_version": "2.0.0",
      "model_name": "HBoxModel",
      "state": {
       "_dom_classes": [],
       "_model_module": "@jupyter-widgets/controls",
       "_model_module_version": "2.0.0",
       "_model_name": "HBoxModel",
       "_view_count": null,
       "_view_module": "@jupyter-widgets/controls",
       "_view_module_version": "2.0.0",
       "_view_name": "HBoxView",
       "box_style": "",
       "children": [
        "IPY_MODEL_c2622ab7ac7c4b708cf2695ebcf15b60",
        "IPY_MODEL_716f5e9ea0f54ae384c4849237e56872",
        "IPY_MODEL_6d4e2235e83a4f0da1e8dffa355b5ad3"
       ],
       "layout": "IPY_MODEL_d34f0ac641bc43889308e8f3bcdd1509",
       "tabbable": null,
       "tooltip": null
      }
     },
     "46f4fc5b750c4a488067268168116c57": {
      "model_module": "@jupyter-widgets/base",
      "model_module_version": "2.0.0",
      "model_name": "LayoutModel",
      "state": {
       "_model_module": "@jupyter-widgets/base",
       "_model_module_version": "2.0.0",
       "_model_name": "LayoutModel",
       "_view_count": null,
       "_view_module": "@jupyter-widgets/base",
       "_view_module_version": "2.0.0",
       "_view_name": "LayoutView",
       "align_content": null,
       "align_items": null,
       "align_self": null,
       "border_bottom": null,
       "border_left": null,
       "border_right": null,
       "border_top": null,
       "bottom": null,
       "display": null,
       "flex": null,
       "flex_flow": null,
       "grid_area": null,
       "grid_auto_columns": null,
       "grid_auto_flow": null,
       "grid_auto_rows": null,
       "grid_column": null,
       "grid_gap": null,
       "grid_row": null,
       "grid_template_areas": null,
       "grid_template_columns": null,
       "grid_template_rows": null,
       "height": null,
       "justify_content": null,
       "justify_items": null,
       "left": null,
       "margin": null,
       "max_height": null,
       "max_width": null,
       "min_height": null,
       "min_width": null,
       "object_fit": null,
       "object_position": null,
       "order": null,
       "overflow": null,
       "padding": null,
       "right": null,
       "top": null,
       "visibility": null,
       "width": null
      }
     },
     "4a864aacaf784005ba5a3494baf45e6c": {
      "model_module": "@jupyter-widgets/base",
      "model_module_version": "2.0.0",
      "model_name": "LayoutModel",
      "state": {
       "_model_module": "@jupyter-widgets/base",
       "_model_module_version": "2.0.0",
       "_model_name": "LayoutModel",
       "_view_count": null,
       "_view_module": "@jupyter-widgets/base",
       "_view_module_version": "2.0.0",
       "_view_name": "LayoutView",
       "align_content": null,
       "align_items": null,
       "align_self": null,
       "border_bottom": null,
       "border_left": null,
       "border_right": null,
       "border_top": null,
       "bottom": null,
       "display": null,
       "flex": null,
       "flex_flow": null,
       "grid_area": null,
       "grid_auto_columns": null,
       "grid_auto_flow": null,
       "grid_auto_rows": null,
       "grid_column": null,
       "grid_gap": null,
       "grid_row": null,
       "grid_template_areas": null,
       "grid_template_columns": null,
       "grid_template_rows": null,
       "height": null,
       "justify_content": null,
       "justify_items": null,
       "left": null,
       "margin": null,
       "max_height": null,
       "max_width": null,
       "min_height": null,
       "min_width": null,
       "object_fit": null,
       "object_position": null,
       "order": null,
       "overflow": null,
       "padding": null,
       "right": null,
       "top": null,
       "visibility": null,
       "width": null
      }
     },
     "4b49ba25619f4ed2b40efb847cf59c5b": {
      "model_module": "@jupyter-widgets/controls",
      "model_module_version": "2.0.0",
      "model_name": "HTMLStyleModel",
      "state": {
       "_model_module": "@jupyter-widgets/controls",
       "_model_module_version": "2.0.0",
       "_model_name": "HTMLStyleModel",
       "_view_count": null,
       "_view_module": "@jupyter-widgets/base",
       "_view_module_version": "2.0.0",
       "_view_name": "StyleView",
       "background": null,
       "description_width": "",
       "font_size": null,
       "text_color": null
      }
     },
     "52924fb6f26e41cda745641961e3223a": {
      "model_module": "@jupyter-widgets/controls",
      "model_module_version": "2.0.0",
      "model_name": "HTMLStyleModel",
      "state": {
       "_model_module": "@jupyter-widgets/controls",
       "_model_module_version": "2.0.0",
       "_model_name": "HTMLStyleModel",
       "_view_count": null,
       "_view_module": "@jupyter-widgets/base",
       "_view_module_version": "2.0.0",
       "_view_name": "StyleView",
       "background": null,
       "description_width": "",
       "font_size": null,
       "text_color": null
      }
     },
     "558c72b6f0dd4797a31626d4864e3b10": {
      "model_module": "@jupyter-widgets/base",
      "model_module_version": "2.0.0",
      "model_name": "LayoutModel",
      "state": {
       "_model_module": "@jupyter-widgets/base",
       "_model_module_version": "2.0.0",
       "_model_name": "LayoutModel",
       "_view_count": null,
       "_view_module": "@jupyter-widgets/base",
       "_view_module_version": "2.0.0",
       "_view_name": "LayoutView",
       "align_content": null,
       "align_items": null,
       "align_self": null,
       "border_bottom": null,
       "border_left": null,
       "border_right": null,
       "border_top": null,
       "bottom": null,
       "display": null,
       "flex": null,
       "flex_flow": null,
       "grid_area": null,
       "grid_auto_columns": null,
       "grid_auto_flow": null,
       "grid_auto_rows": null,
       "grid_column": null,
       "grid_gap": null,
       "grid_row": null,
       "grid_template_areas": null,
       "grid_template_columns": null,
       "grid_template_rows": null,
       "height": null,
       "justify_content": null,
       "justify_items": null,
       "left": null,
       "margin": null,
       "max_height": null,
       "max_width": null,
       "min_height": null,
       "min_width": null,
       "object_fit": null,
       "object_position": null,
       "order": null,
       "overflow": null,
       "padding": null,
       "right": null,
       "top": null,
       "visibility": null,
       "width": null
      }
     },
     "5ba7e68ac2134bb6966c5f1e39311ee3": {
      "model_module": "@jupyter-widgets/controls",
      "model_module_version": "2.0.0",
      "model_name": "HBoxModel",
      "state": {
       "_dom_classes": [],
       "_model_module": "@jupyter-widgets/controls",
       "_model_module_version": "2.0.0",
       "_model_name": "HBoxModel",
       "_view_count": null,
       "_view_module": "@jupyter-widgets/controls",
       "_view_module_version": "2.0.0",
       "_view_name": "HBoxView",
       "box_style": "",
       "children": [
        "IPY_MODEL_845dd7f9134345f9a90da6f104ca3871",
        "IPY_MODEL_34300ac2104749ddb01911ddc7bb4e47",
        "IPY_MODEL_95427bcb6d9a4f99bec92d505001a8ea"
       ],
       "layout": "IPY_MODEL_3992a93f7a924cddaef4719074727325",
       "tabbable": null,
       "tooltip": null
      }
     },
     "5d04de6d77f1464cb4b83a0499fc51bf": {
      "model_module": "@jupyter-widgets/base",
      "model_module_version": "2.0.0",
      "model_name": "LayoutModel",
      "state": {
       "_model_module": "@jupyter-widgets/base",
       "_model_module_version": "2.0.0",
       "_model_name": "LayoutModel",
       "_view_count": null,
       "_view_module": "@jupyter-widgets/base",
       "_view_module_version": "2.0.0",
       "_view_name": "LayoutView",
       "align_content": null,
       "align_items": null,
       "align_self": null,
       "border_bottom": null,
       "border_left": null,
       "border_right": null,
       "border_top": null,
       "bottom": null,
       "display": null,
       "flex": null,
       "flex_flow": null,
       "grid_area": null,
       "grid_auto_columns": null,
       "grid_auto_flow": null,
       "grid_auto_rows": null,
       "grid_column": null,
       "grid_gap": null,
       "grid_row": null,
       "grid_template_areas": null,
       "grid_template_columns": null,
       "grid_template_rows": null,
       "height": null,
       "justify_content": null,
       "justify_items": null,
       "left": null,
       "margin": null,
       "max_height": null,
       "max_width": null,
       "min_height": null,
       "min_width": null,
       "object_fit": null,
       "object_position": null,
       "order": null,
       "overflow": null,
       "padding": null,
       "right": null,
       "top": null,
       "visibility": null,
       "width": null
      }
     },
     "61405b538b184219853993f037e15194": {
      "model_module": "@jupyter-widgets/controls",
      "model_module_version": "2.0.0",
      "model_name": "HTMLModel",
      "state": {
       "_dom_classes": [],
       "_model_module": "@jupyter-widgets/controls",
       "_model_module_version": "2.0.0",
       "_model_name": "HTMLModel",
       "_view_count": null,
       "_view_module": "@jupyter-widgets/controls",
       "_view_module_version": "2.0.0",
       "_view_name": "HTMLView",
       "description": "",
       "description_allow_html": false,
       "layout": "IPY_MODEL_46f4fc5b750c4a488067268168116c57",
       "placeholder": "​",
       "style": "IPY_MODEL_d5ca4753e8934c4fa9b2abcbcd1c878e",
       "tabbable": null,
       "tooltip": null,
       "value": "config.json: 100%"
      }
     },
     "64b9d0b026a546fd99e454a7aff33d2b": {
      "model_module": "@jupyter-widgets/controls",
      "model_module_version": "2.0.0",
      "model_name": "ProgressStyleModel",
      "state": {
       "_model_module": "@jupyter-widgets/controls",
       "_model_module_version": "2.0.0",
       "_model_name": "ProgressStyleModel",
       "_view_count": null,
       "_view_module": "@jupyter-widgets/base",
       "_view_module_version": "2.0.0",
       "_view_name": "StyleView",
       "bar_color": null,
       "description_width": ""
      }
     },
     "65031e3a47b748c6bc68ce2efc321f11": {
      "model_module": "@jupyter-widgets/controls",
      "model_module_version": "2.0.0",
      "model_name": "FloatProgressModel",
      "state": {
       "_dom_classes": [],
       "_model_module": "@jupyter-widgets/controls",
       "_model_module_version": "2.0.0",
       "_model_name": "FloatProgressModel",
       "_view_count": null,
       "_view_module": "@jupyter-widgets/controls",
       "_view_module_version": "2.0.0",
       "_view_name": "ProgressView",
       "bar_style": "success",
       "description": "",
       "description_allow_html": false,
       "layout": "IPY_MODEL_e0ea6a8fe3ce4bee8a7923f89e788ab1",
       "max": 50000.0,
       "min": 0.0,
       "orientation": "horizontal",
       "style": "IPY_MODEL_64b9d0b026a546fd99e454a7aff33d2b",
       "tabbable": null,
       "tooltip": null,
       "value": 50000.0
      }
     },
     "6b34bdd4ba934f2c925b4a74e5a03ae1": {
      "model_module": "@jupyter-widgets/controls",
      "model_module_version": "2.0.0",
      "model_name": "HTMLStyleModel",
      "state": {
       "_model_module": "@jupyter-widgets/controls",
       "_model_module_version": "2.0.0",
       "_model_name": "HTMLStyleModel",
       "_view_count": null,
       "_view_module": "@jupyter-widgets/base",
       "_view_module_version": "2.0.0",
       "_view_name": "StyleView",
       "background": null,
       "description_width": "",
       "font_size": null,
       "text_color": null
      }
     },
     "6d4e2235e83a4f0da1e8dffa355b5ad3": {
      "model_module": "@jupyter-widgets/controls",
      "model_module_version": "2.0.0",
      "model_name": "HTMLModel",
      "state": {
       "_dom_classes": [],
       "_model_module": "@jupyter-widgets/controls",
       "_model_module_version": "2.0.0",
       "_model_name": "HTMLModel",
       "_view_count": null,
       "_view_module": "@jupyter-widgets/controls",
       "_view_module_version": "2.0.0",
       "_view_name": "HTMLView",
       "description": "",
       "description_allow_html": false,
       "layout": "IPY_MODEL_95d605587bef40c6832e6c594a418f19",
       "placeholder": "​",
       "style": "IPY_MODEL_c1a1dc31772a4485b67d3c0c51a224da",
       "tabbable": null,
       "tooltip": null,
       "value": " 268M/268M [00:01&lt;00:00, 231MB/s]"
      }
     },
     "6f602c6864a647708c8e7115dcd9cc14": {
      "model_module": "@jupyter-widgets/controls",
      "model_module_version": "2.0.0",
      "model_name": "HTMLModel",
      "state": {
       "_dom_classes": [],
       "_model_module": "@jupyter-widgets/controls",
       "_model_module_version": "2.0.0",
       "_model_name": "HTMLModel",
       "_view_count": null,
       "_view_module": "@jupyter-widgets/controls",
       "_view_module_version": "2.0.0",
       "_view_name": "HTMLView",
       "description": "",
       "description_allow_html": false,
       "layout": "IPY_MODEL_2a5d2a827e3c4a998963c60ab58948d1",
       "placeholder": "​",
       "style": "IPY_MODEL_71cb83d8abbf49cbb39d8c6fb1381765",
       "tabbable": null,
       "tooltip": null,
       "value": "vocab.txt: 100%"
      }
     },
     "716f5e9ea0f54ae384c4849237e56872": {
      "model_module": "@jupyter-widgets/controls",
      "model_module_version": "2.0.0",
      "model_name": "FloatProgressModel",
      "state": {
       "_dom_classes": [],
       "_model_module": "@jupyter-widgets/controls",
       "_model_module_version": "2.0.0",
       "_model_name": "FloatProgressModel",
       "_view_count": null,
       "_view_module": "@jupyter-widgets/controls",
       "_view_module_version": "2.0.0",
       "_view_name": "ProgressView",
       "bar_style": "success",
       "description": "",
       "description_allow_html": false,
       "layout": "IPY_MODEL_9b4108e3c7e14c17a4f505cb94af160f",
       "max": 267954768.0,
       "min": 0.0,
       "orientation": "horizontal",
       "style": "IPY_MODEL_05f6fcb780224d0d9dab01cee76a09be",
       "tabbable": null,
       "tooltip": null,
       "value": 267954768.0
      }
     },
     "71cb83d8abbf49cbb39d8c6fb1381765": {
      "model_module": "@jupyter-widgets/controls",
      "model_module_version": "2.0.0",
      "model_name": "HTMLStyleModel",
      "state": {
       "_model_module": "@jupyter-widgets/controls",
       "_model_module_version": "2.0.0",
       "_model_name": "HTMLStyleModel",
       "_view_count": null,
       "_view_module": "@jupyter-widgets/base",
       "_view_module_version": "2.0.0",
       "_view_name": "StyleView",
       "background": null,
       "description_width": "",
       "font_size": null,
       "text_color": null
      }
     },
     "845dd7f9134345f9a90da6f104ca3871": {
      "model_module": "@jupyter-widgets/controls",
      "model_module_version": "2.0.0",
      "model_name": "HTMLModel",
      "state": {
       "_dom_classes": [],
       "_model_module": "@jupyter-widgets/controls",
       "_model_module_version": "2.0.0",
       "_model_name": "HTMLModel",
       "_view_count": null,
       "_view_module": "@jupyter-widgets/controls",
       "_view_module_version": "2.0.0",
       "_view_name": "HTMLView",
       "description": "",
       "description_allow_html": false,
       "layout": "IPY_MODEL_8d06a3c4911e4381a347f9663e318681",
       "placeholder": "​",
       "style": "IPY_MODEL_52924fb6f26e41cda745641961e3223a",
       "tabbable": null,
       "tooltip": null,
       "value": "tokenizer_config.json: 100%"
      }
     },
     "87504ef698654ee59c15bee9e89bb533": {
      "model_module": "@jupyter-widgets/controls",
      "model_module_version": "2.0.0",
      "model_name": "HBoxModel",
      "state": {
       "_dom_classes": [],
       "_model_module": "@jupyter-widgets/controls",
       "_model_module_version": "2.0.0",
       "_model_name": "HBoxModel",
       "_view_count": null,
       "_view_module": "@jupyter-widgets/controls",
       "_view_module_version": "2.0.0",
       "_view_name": "HBoxView",
       "box_style": "",
       "children": [
        "IPY_MODEL_185928024e2f4b25a6258d983de2f5b0",
        "IPY_MODEL_d44f53f116f74555b955cc2d00369e4e",
        "IPY_MODEL_0763ccf159c24a519201ba5551bfaa25"
       ],
       "layout": "IPY_MODEL_4a864aacaf784005ba5a3494baf45e6c",
       "tabbable": null,
       "tooltip": null
      }
     },
     "88d4f94ecfca4d09a689ac0253aa158b": {
      "model_module": "@jupyter-widgets/base",
      "model_module_version": "2.0.0",
      "model_name": "LayoutModel",
      "state": {
       "_model_module": "@jupyter-widgets/base",
       "_model_module_version": "2.0.0",
       "_model_name": "LayoutModel",
       "_view_count": null,
       "_view_module": "@jupyter-widgets/base",
       "_view_module_version": "2.0.0",
       "_view_name": "LayoutView",
       "align_content": null,
       "align_items": null,
       "align_self": null,
       "border_bottom": null,
       "border_left": null,
       "border_right": null,
       "border_top": null,
       "bottom": null,
       "display": null,
       "flex": null,
       "flex_flow": null,
       "grid_area": null,
       "grid_auto_columns": null,
       "grid_auto_flow": null,
       "grid_auto_rows": null,
       "grid_column": null,
       "grid_gap": null,
       "grid_row": null,
       "grid_template_areas": null,
       "grid_template_columns": null,
       "grid_template_rows": null,
       "height": null,
       "justify_content": null,
       "justify_items": null,
       "left": null,
       "margin": null,
       "max_height": null,
       "max_width": null,
       "min_height": null,
       "min_width": null,
       "object_fit": null,
       "object_position": null,
       "order": null,
       "overflow": null,
       "padding": null,
       "right": null,
       "top": null,
       "visibility": null,
       "width": null
      }
     },
     "8b8a449621694087890bea36ad3ed0d6": {
      "model_module": "@jupyter-widgets/controls",
      "model_module_version": "2.0.0",
      "model_name": "HTMLModel",
      "state": {
       "_dom_classes": [],
       "_model_module": "@jupyter-widgets/controls",
       "_model_module_version": "2.0.0",
       "_model_name": "HTMLModel",
       "_view_count": null,
       "_view_module": "@jupyter-widgets/controls",
       "_view_module_version": "2.0.0",
       "_view_name": "HTMLView",
       "description": "",
       "description_allow_html": false,
       "layout": "IPY_MODEL_e9ebbdc1ab50412e9897111e581956a7",
       "placeholder": "​",
       "style": "IPY_MODEL_4b49ba25619f4ed2b40efb847cf59c5b",
       "tabbable": null,
       "tooltip": null,
       "value": " 483/483 [00:00&lt;00:00, 51.3kB/s]"
      }
     },
     "8d06a3c4911e4381a347f9663e318681": {
      "model_module": "@jupyter-widgets/base",
      "model_module_version": "2.0.0",
      "model_name": "LayoutModel",
      "state": {
       "_model_module": "@jupyter-widgets/base",
       "_model_module_version": "2.0.0",
       "_model_name": "LayoutModel",
       "_view_count": null,
       "_view_module": "@jupyter-widgets/base",
       "_view_module_version": "2.0.0",
       "_view_name": "LayoutView",
       "align_content": null,
       "align_items": null,
       "align_self": null,
       "border_bottom": null,
       "border_left": null,
       "border_right": null,
       "border_top": null,
       "bottom": null,
       "display": null,
       "flex": null,
       "flex_flow": null,
       "grid_area": null,
       "grid_auto_columns": null,
       "grid_auto_flow": null,
       "grid_auto_rows": null,
       "grid_column": null,
       "grid_gap": null,
       "grid_row": null,
       "grid_template_areas": null,
       "grid_template_columns": null,
       "grid_template_rows": null,
       "height": null,
       "justify_content": null,
       "justify_items": null,
       "left": null,
       "margin": null,
       "max_height": null,
       "max_width": null,
       "min_height": null,
       "min_width": null,
       "object_fit": null,
       "object_position": null,
       "order": null,
       "overflow": null,
       "padding": null,
       "right": null,
       "top": null,
       "visibility": null,
       "width": null
      }
     },
     "90dc499118be4dec86d0762ed5747d9c": {
      "model_module": "@jupyter-widgets/controls",
      "model_module_version": "2.0.0",
      "model_name": "ProgressStyleModel",
      "state": {
       "_model_module": "@jupyter-widgets/controls",
       "_model_module_version": "2.0.0",
       "_model_name": "ProgressStyleModel",
       "_view_count": null,
       "_view_module": "@jupyter-widgets/base",
       "_view_module_version": "2.0.0",
       "_view_name": "StyleView",
       "bar_color": null,
       "description_width": ""
      }
     },
     "95427bcb6d9a4f99bec92d505001a8ea": {
      "model_module": "@jupyter-widgets/controls",
      "model_module_version": "2.0.0",
      "model_name": "HTMLModel",
      "state": {
       "_dom_classes": [],
       "_model_module": "@jupyter-widgets/controls",
       "_model_module_version": "2.0.0",
       "_model_name": "HTMLModel",
       "_view_count": null,
       "_view_module": "@jupyter-widgets/controls",
       "_view_module_version": "2.0.0",
       "_view_name": "HTMLView",
       "description": "",
       "description_allow_html": false,
       "layout": "IPY_MODEL_25231672ee634bf2aab3482264217b96",
       "placeholder": "​",
       "style": "IPY_MODEL_aaa80410955043a392623f3b98cbd4e1",
       "tabbable": null,
       "tooltip": null,
       "value": " 48.0/48.0 [00:00&lt;00:00, 4.79kB/s]"
      }
     },
     "95d605587bef40c6832e6c594a418f19": {
      "model_module": "@jupyter-widgets/base",
      "model_module_version": "2.0.0",
      "model_name": "LayoutModel",
      "state": {
       "_model_module": "@jupyter-widgets/base",
       "_model_module_version": "2.0.0",
       "_model_name": "LayoutModel",
       "_view_count": null,
       "_view_module": "@jupyter-widgets/base",
       "_view_module_version": "2.0.0",
       "_view_name": "LayoutView",
       "align_content": null,
       "align_items": null,
       "align_self": null,
       "border_bottom": null,
       "border_left": null,
       "border_right": null,
       "border_top": null,
       "bottom": null,
       "display": null,
       "flex": null,
       "flex_flow": null,
       "grid_area": null,
       "grid_auto_columns": null,
       "grid_auto_flow": null,
       "grid_auto_rows": null,
       "grid_column": null,
       "grid_gap": null,
       "grid_row": null,
       "grid_template_areas": null,
       "grid_template_columns": null,
       "grid_template_rows": null,
       "height": null,
       "justify_content": null,
       "justify_items": null,
       "left": null,
       "margin": null,
       "max_height": null,
       "max_width": null,
       "min_height": null,
       "min_width": null,
       "object_fit": null,
       "object_position": null,
       "order": null,
       "overflow": null,
       "padding": null,
       "right": null,
       "top": null,
       "visibility": null,
       "width": null
      }
     },
     "9b4108e3c7e14c17a4f505cb94af160f": {
      "model_module": "@jupyter-widgets/base",
      "model_module_version": "2.0.0",
      "model_name": "LayoutModel",
      "state": {
       "_model_module": "@jupyter-widgets/base",
       "_model_module_version": "2.0.0",
       "_model_name": "LayoutModel",
       "_view_count": null,
       "_view_module": "@jupyter-widgets/base",
       "_view_module_version": "2.0.0",
       "_view_name": "LayoutView",
       "align_content": null,
       "align_items": null,
       "align_self": null,
       "border_bottom": null,
       "border_left": null,
       "border_right": null,
       "border_top": null,
       "bottom": null,
       "display": null,
       "flex": null,
       "flex_flow": null,
       "grid_area": null,
       "grid_auto_columns": null,
       "grid_auto_flow": null,
       "grid_auto_rows": null,
       "grid_column": null,
       "grid_gap": null,
       "grid_row": null,
       "grid_template_areas": null,
       "grid_template_columns": null,
       "grid_template_rows": null,
       "height": null,
       "justify_content": null,
       "justify_items": null,
       "left": null,
       "margin": null,
       "max_height": null,
       "max_width": null,
       "min_height": null,
       "min_width": null,
       "object_fit": null,
       "object_position": null,
       "order": null,
       "overflow": null,
       "padding": null,
       "right": null,
       "top": null,
       "visibility": null,
       "width": null
      }
     },
     "aaa80410955043a392623f3b98cbd4e1": {
      "model_module": "@jupyter-widgets/controls",
      "model_module_version": "2.0.0",
      "model_name": "HTMLStyleModel",
      "state": {
       "_model_module": "@jupyter-widgets/controls",
       "_model_module_version": "2.0.0",
       "_model_name": "HTMLStyleModel",
       "_view_count": null,
       "_view_module": "@jupyter-widgets/base",
       "_view_module_version": "2.0.0",
       "_view_name": "StyleView",
       "background": null,
       "description_width": "",
       "font_size": null,
       "text_color": null
      }
     },
     "aae6c86acf124c5da0ca7f3f864f610d": {
      "model_module": "@jupyter-widgets/controls",
      "model_module_version": "2.0.0",
      "model_name": "HTMLStyleModel",
      "state": {
       "_model_module": "@jupyter-widgets/controls",
       "_model_module_version": "2.0.0",
       "_model_name": "HTMLStyleModel",
       "_view_count": null,
       "_view_module": "@jupyter-widgets/base",
       "_view_module_version": "2.0.0",
       "_view_name": "StyleView",
       "background": null,
       "description_width": "",
       "font_size": null,
       "text_color": null
      }
     },
     "b758cd73db8241a4aeae221185dada53": {
      "model_module": "@jupyter-widgets/base",
      "model_module_version": "2.0.0",
      "model_name": "LayoutModel",
      "state": {
       "_model_module": "@jupyter-widgets/base",
       "_model_module_version": "2.0.0",
       "_model_name": "LayoutModel",
       "_view_count": null,
       "_view_module": "@jupyter-widgets/base",
       "_view_module_version": "2.0.0",
       "_view_name": "LayoutView",
       "align_content": null,
       "align_items": null,
       "align_self": null,
       "border_bottom": null,
       "border_left": null,
       "border_right": null,
       "border_top": null,
       "bottom": null,
       "display": null,
       "flex": null,
       "flex_flow": null,
       "grid_area": null,
       "grid_auto_columns": null,
       "grid_auto_flow": null,
       "grid_auto_rows": null,
       "grid_column": null,
       "grid_gap": null,
       "grid_row": null,
       "grid_template_areas": null,
       "grid_template_columns": null,
       "grid_template_rows": null,
       "height": null,
       "justify_content": null,
       "justify_items": null,
       "left": null,
       "margin": null,
       "max_height": null,
       "max_width": null,
       "min_height": null,
       "min_width": null,
       "object_fit": null,
       "object_position": null,
       "order": null,
       "overflow": null,
       "padding": null,
       "right": null,
       "top": null,
       "visibility": null,
       "width": null
      }
     },
     "b795d95aa19b4470b267dd331198b73d": {
      "model_module": "@jupyter-widgets/base",
      "model_module_version": "2.0.0",
      "model_name": "LayoutModel",
      "state": {
       "_model_module": "@jupyter-widgets/base",
       "_model_module_version": "2.0.0",
       "_model_name": "LayoutModel",
       "_view_count": null,
       "_view_module": "@jupyter-widgets/base",
       "_view_module_version": "2.0.0",
       "_view_name": "LayoutView",
       "align_content": null,
       "align_items": null,
       "align_self": null,
       "border_bottom": null,
       "border_left": null,
       "border_right": null,
       "border_top": null,
       "bottom": null,
       "display": null,
       "flex": null,
       "flex_flow": null,
       "grid_area": null,
       "grid_auto_columns": null,
       "grid_auto_flow": null,
       "grid_auto_rows": null,
       "grid_column": null,
       "grid_gap": null,
       "grid_row": null,
       "grid_template_areas": null,
       "grid_template_columns": null,
       "grid_template_rows": null,
       "height": null,
       "justify_content": null,
       "justify_items": null,
       "left": null,
       "margin": null,
       "max_height": null,
       "max_width": null,
       "min_height": null,
       "min_width": null,
       "object_fit": null,
       "object_position": null,
       "order": null,
       "overflow": null,
       "padding": null,
       "right": null,
       "top": null,
       "visibility": null,
       "width": null
      }
     },
     "c12ec8311fc544458fed99a67a8c5db3": {
      "model_module": "@jupyter-widgets/controls",
      "model_module_version": "2.0.0",
      "model_name": "HTMLStyleModel",
      "state": {
       "_model_module": "@jupyter-widgets/controls",
       "_model_module_version": "2.0.0",
       "_model_name": "HTMLStyleModel",
       "_view_count": null,
       "_view_module": "@jupyter-widgets/base",
       "_view_module_version": "2.0.0",
       "_view_name": "StyleView",
       "background": null,
       "description_width": "",
       "font_size": null,
       "text_color": null
      }
     },
     "c1876425669149c78e36504f55e464ff": {
      "model_module": "@jupyter-widgets/controls",
      "model_module_version": "2.0.0",
      "model_name": "HTMLModel",
      "state": {
       "_dom_classes": [],
       "_model_module": "@jupyter-widgets/controls",
       "_model_module_version": "2.0.0",
       "_model_name": "HTMLModel",
       "_view_count": null,
       "_view_module": "@jupyter-widgets/controls",
       "_view_module_version": "2.0.0",
       "_view_name": "HTMLView",
       "description": "",
       "description_allow_html": false,
       "layout": "IPY_MODEL_558c72b6f0dd4797a31626d4864e3b10",
       "placeholder": "​",
       "style": "IPY_MODEL_aae6c86acf124c5da0ca7f3f864f610d",
       "tabbable": null,
       "tooltip": null,
       "value": " 50000/50000 [00:24&lt;00:00, 2164.87 examples/s]"
      }
     },
     "c1a1dc31772a4485b67d3c0c51a224da": {
      "model_module": "@jupyter-widgets/controls",
      "model_module_version": "2.0.0",
      "model_name": "HTMLStyleModel",
      "state": {
       "_model_module": "@jupyter-widgets/controls",
       "_model_module_version": "2.0.0",
       "_model_name": "HTMLStyleModel",
       "_view_count": null,
       "_view_module": "@jupyter-widgets/base",
       "_view_module_version": "2.0.0",
       "_view_name": "StyleView",
       "background": null,
       "description_width": "",
       "font_size": null,
       "text_color": null
      }
     },
     "c2622ab7ac7c4b708cf2695ebcf15b60": {
      "model_module": "@jupyter-widgets/controls",
      "model_module_version": "2.0.0",
      "model_name": "HTMLModel",
      "state": {
       "_dom_classes": [],
       "_model_module": "@jupyter-widgets/controls",
       "_model_module_version": "2.0.0",
       "_model_name": "HTMLModel",
       "_view_count": null,
       "_view_module": "@jupyter-widgets/controls",
       "_view_module_version": "2.0.0",
       "_view_name": "HTMLView",
       "description": "",
       "description_allow_html": false,
       "layout": "IPY_MODEL_2ef519a6c95346c78a26e6cbc80b2bec",
       "placeholder": "​",
       "style": "IPY_MODEL_1f007dd744d14559a5127a9639ef7848",
       "tabbable": null,
       "tooltip": null,
       "value": "model.safetensors: 100%"
      }
     },
     "c3689975729e459c844a553b8ea42a12": {
      "model_module": "@jupyter-widgets/base",
      "model_module_version": "2.0.0",
      "model_name": "LayoutModel",
      "state": {
       "_model_module": "@jupyter-widgets/base",
       "_model_module_version": "2.0.0",
       "_model_name": "LayoutModel",
       "_view_count": null,
       "_view_module": "@jupyter-widgets/base",
       "_view_module_version": "2.0.0",
       "_view_name": "LayoutView",
       "align_content": null,
       "align_items": null,
       "align_self": null,
       "border_bottom": null,
       "border_left": null,
       "border_right": null,
       "border_top": null,
       "bottom": null,
       "display": null,
       "flex": null,
       "flex_flow": null,
       "grid_area": null,
       "grid_auto_columns": null,
       "grid_auto_flow": null,
       "grid_auto_rows": null,
       "grid_column": null,
       "grid_gap": null,
       "grid_row": null,
       "grid_template_areas": null,
       "grid_template_columns": null,
       "grid_template_rows": null,
       "height": null,
       "justify_content": null,
       "justify_items": null,
       "left": null,
       "margin": null,
       "max_height": null,
       "max_width": null,
       "min_height": null,
       "min_width": null,
       "object_fit": null,
       "object_position": null,
       "order": null,
       "overflow": null,
       "padding": null,
       "right": null,
       "top": null,
       "visibility": null,
       "width": null
      }
     },
     "c3a9c7c068cc488a89fc2cc46e74b4c8": {
      "model_module": "@jupyter-widgets/controls",
      "model_module_version": "2.0.0",
      "model_name": "ProgressStyleModel",
      "state": {
       "_model_module": "@jupyter-widgets/controls",
       "_model_module_version": "2.0.0",
       "_model_name": "ProgressStyleModel",
       "_view_count": null,
       "_view_module": "@jupyter-widgets/base",
       "_view_module_version": "2.0.0",
       "_view_name": "StyleView",
       "bar_color": null,
       "description_width": ""
      }
     },
     "c6c848796877436faa3eb2013a2a039e": {
      "model_module": "@jupyter-widgets/controls",
      "model_module_version": "2.0.0",
      "model_name": "HBoxModel",
      "state": {
       "_dom_classes": [],
       "_model_module": "@jupyter-widgets/controls",
       "_model_module_version": "2.0.0",
       "_model_name": "HBoxModel",
       "_view_count": null,
       "_view_module": "@jupyter-widgets/controls",
       "_view_module_version": "2.0.0",
       "_view_name": "HBoxView",
       "box_style": "",
       "children": [
        "IPY_MODEL_db306a290d444b83b5db17580257a82c",
        "IPY_MODEL_65031e3a47b748c6bc68ce2efc321f11",
        "IPY_MODEL_c1876425669149c78e36504f55e464ff"
       ],
       "layout": "IPY_MODEL_88d4f94ecfca4d09a689ac0253aa158b",
       "tabbable": null,
       "tooltip": null
      }
     },
     "cd2f25f83e0a4b1b975a25720d00075e": {
      "model_module": "@jupyter-widgets/base",
      "model_module_version": "2.0.0",
      "model_name": "LayoutModel",
      "state": {
       "_model_module": "@jupyter-widgets/base",
       "_model_module_version": "2.0.0",
       "_model_name": "LayoutModel",
       "_view_count": null,
       "_view_module": "@jupyter-widgets/base",
       "_view_module_version": "2.0.0",
       "_view_name": "LayoutView",
       "align_content": null,
       "align_items": null,
       "align_self": null,
       "border_bottom": null,
       "border_left": null,
       "border_right": null,
       "border_top": null,
       "bottom": null,
       "display": null,
       "flex": null,
       "flex_flow": null,
       "grid_area": null,
       "grid_auto_columns": null,
       "grid_auto_flow": null,
       "grid_auto_rows": null,
       "grid_column": null,
       "grid_gap": null,
       "grid_row": null,
       "grid_template_areas": null,
       "grid_template_columns": null,
       "grid_template_rows": null,
       "height": null,
       "justify_content": null,
       "justify_items": null,
       "left": null,
       "margin": null,
       "max_height": null,
       "max_width": null,
       "min_height": null,
       "min_width": null,
       "object_fit": null,
       "object_position": null,
       "order": null,
       "overflow": null,
       "padding": null,
       "right": null,
       "top": null,
       "visibility": null,
       "width": null
      }
     },
     "cd6e3026a4824c71843b53504cb8254f": {
      "model_module": "@jupyter-widgets/controls",
      "model_module_version": "2.0.0",
      "model_name": "FloatProgressModel",
      "state": {
       "_dom_classes": [],
       "_model_module": "@jupyter-widgets/controls",
       "_model_module_version": "2.0.0",
       "_model_name": "FloatProgressModel",
       "_view_count": null,
       "_view_module": "@jupyter-widgets/controls",
       "_view_module_version": "2.0.0",
       "_view_name": "ProgressView",
       "bar_style": "success",
       "description": "",
       "description_allow_html": false,
       "layout": "IPY_MODEL_1d64c7cb38434dc99ef03006cd9134d9",
       "max": 483.0,
       "min": 0.0,
       "orientation": "horizontal",
       "style": "IPY_MODEL_e15a0779f80f427a8d425058f0894cae",
       "tabbable": null,
       "tooltip": null,
       "value": 483.0
      }
     },
     "cefdd24fd80a47e38c0c94647a982a9d": {
      "model_module": "@jupyter-widgets/controls",
      "model_module_version": "2.0.0",
      "model_name": "ProgressStyleModel",
      "state": {
       "_model_module": "@jupyter-widgets/controls",
       "_model_module_version": "2.0.0",
       "_model_name": "ProgressStyleModel",
       "_view_count": null,
       "_view_module": "@jupyter-widgets/base",
       "_view_module_version": "2.0.0",
       "_view_name": "StyleView",
       "bar_color": null,
       "description_width": ""
      }
     },
     "d1c15d5505f54c50aa82d9c64f3f74be": {
      "model_module": "@jupyter-widgets/base",
      "model_module_version": "2.0.0",
      "model_name": "LayoutModel",
      "state": {
       "_model_module": "@jupyter-widgets/base",
       "_model_module_version": "2.0.0",
       "_model_name": "LayoutModel",
       "_view_count": null,
       "_view_module": "@jupyter-widgets/base",
       "_view_module_version": "2.0.0",
       "_view_name": "LayoutView",
       "align_content": null,
       "align_items": null,
       "align_self": null,
       "border_bottom": null,
       "border_left": null,
       "border_right": null,
       "border_top": null,
       "bottom": null,
       "display": null,
       "flex": null,
       "flex_flow": null,
       "grid_area": null,
       "grid_auto_columns": null,
       "grid_auto_flow": null,
       "grid_auto_rows": null,
       "grid_column": null,
       "grid_gap": null,
       "grid_row": null,
       "grid_template_areas": null,
       "grid_template_columns": null,
       "grid_template_rows": null,
       "height": null,
       "justify_content": null,
       "justify_items": null,
       "left": null,
       "margin": null,
       "max_height": null,
       "max_width": null,
       "min_height": null,
       "min_width": null,
       "object_fit": null,
       "object_position": null,
       "order": null,
       "overflow": null,
       "padding": null,
       "right": null,
       "top": null,
       "visibility": null,
       "width": null
      }
     },
     "d299e0b761a447a5867cfef033a1afb0": {
      "model_module": "@jupyter-widgets/controls",
      "model_module_version": "2.0.0",
      "model_name": "HBoxModel",
      "state": {
       "_dom_classes": [],
       "_model_module": "@jupyter-widgets/controls",
       "_model_module_version": "2.0.0",
       "_model_name": "HBoxModel",
       "_view_count": null,
       "_view_module": "@jupyter-widgets/controls",
       "_view_module_version": "2.0.0",
       "_view_name": "HBoxView",
       "box_style": "",
       "children": [
        "IPY_MODEL_6f602c6864a647708c8e7115dcd9cc14",
        "IPY_MODEL_1829016cc121401e80e48fe37141f090",
        "IPY_MODEL_038948dc9043464eb36c51e26c07201c"
       ],
       "layout": "IPY_MODEL_d1c15d5505f54c50aa82d9c64f3f74be",
       "tabbable": null,
       "tooltip": null
      }
     },
     "d34f0ac641bc43889308e8f3bcdd1509": {
      "model_module": "@jupyter-widgets/base",
      "model_module_version": "2.0.0",
      "model_name": "LayoutModel",
      "state": {
       "_model_module": "@jupyter-widgets/base",
       "_model_module_version": "2.0.0",
       "_model_name": "LayoutModel",
       "_view_count": null,
       "_view_module": "@jupyter-widgets/base",
       "_view_module_version": "2.0.0",
       "_view_name": "LayoutView",
       "align_content": null,
       "align_items": null,
       "align_self": null,
       "border_bottom": null,
       "border_left": null,
       "border_right": null,
       "border_top": null,
       "bottom": null,
       "display": null,
       "flex": null,
       "flex_flow": null,
       "grid_area": null,
       "grid_auto_columns": null,
       "grid_auto_flow": null,
       "grid_auto_rows": null,
       "grid_column": null,
       "grid_gap": null,
       "grid_row": null,
       "grid_template_areas": null,
       "grid_template_columns": null,
       "grid_template_rows": null,
       "height": null,
       "justify_content": null,
       "justify_items": null,
       "left": null,
       "margin": null,
       "max_height": null,
       "max_width": null,
       "min_height": null,
       "min_width": null,
       "object_fit": null,
       "object_position": null,
       "order": null,
       "overflow": null,
       "padding": null,
       "right": null,
       "top": null,
       "visibility": null,
       "width": null
      }
     },
     "d44f53f116f74555b955cc2d00369e4e": {
      "model_module": "@jupyter-widgets/controls",
      "model_module_version": "2.0.0",
      "model_name": "FloatProgressModel",
      "state": {
       "_dom_classes": [],
       "_model_module": "@jupyter-widgets/controls",
       "_model_module_version": "2.0.0",
       "_model_name": "FloatProgressModel",
       "_view_count": null,
       "_view_module": "@jupyter-widgets/controls",
       "_view_module_version": "2.0.0",
       "_view_name": "ProgressView",
       "bar_style": "success",
       "description": "",
       "description_allow_html": false,
       "layout": "IPY_MODEL_cd2f25f83e0a4b1b975a25720d00075e",
       "max": 466062.0,
       "min": 0.0,
       "orientation": "horizontal",
       "style": "IPY_MODEL_90dc499118be4dec86d0762ed5747d9c",
       "tabbable": null,
       "tooltip": null,
       "value": 466062.0
      }
     },
     "d5ca4753e8934c4fa9b2abcbcd1c878e": {
      "model_module": "@jupyter-widgets/controls",
      "model_module_version": "2.0.0",
      "model_name": "HTMLStyleModel",
      "state": {
       "_model_module": "@jupyter-widgets/controls",
       "_model_module_version": "2.0.0",
       "_model_name": "HTMLStyleModel",
       "_view_count": null,
       "_view_module": "@jupyter-widgets/base",
       "_view_module_version": "2.0.0",
       "_view_name": "StyleView",
       "background": null,
       "description_width": "",
       "font_size": null,
       "text_color": null
      }
     },
     "d69d7c84df2645ce9a704ed12000d468": {
      "model_module": "@jupyter-widgets/base",
      "model_module_version": "2.0.0",
      "model_name": "LayoutModel",
      "state": {
       "_model_module": "@jupyter-widgets/base",
       "_model_module_version": "2.0.0",
       "_model_name": "LayoutModel",
       "_view_count": null,
       "_view_module": "@jupyter-widgets/base",
       "_view_module_version": "2.0.0",
       "_view_name": "LayoutView",
       "align_content": null,
       "align_items": null,
       "align_self": null,
       "border_bottom": null,
       "border_left": null,
       "border_right": null,
       "border_top": null,
       "bottom": null,
       "display": null,
       "flex": null,
       "flex_flow": null,
       "grid_area": null,
       "grid_auto_columns": null,
       "grid_auto_flow": null,
       "grid_auto_rows": null,
       "grid_column": null,
       "grid_gap": null,
       "grid_row": null,
       "grid_template_areas": null,
       "grid_template_columns": null,
       "grid_template_rows": null,
       "height": null,
       "justify_content": null,
       "justify_items": null,
       "left": null,
       "margin": null,
       "max_height": null,
       "max_width": null,
       "min_height": null,
       "min_width": null,
       "object_fit": null,
       "object_position": null,
       "order": null,
       "overflow": null,
       "padding": null,
       "right": null,
       "top": null,
       "visibility": null,
       "width": null
      }
     },
     "db306a290d444b83b5db17580257a82c": {
      "model_module": "@jupyter-widgets/controls",
      "model_module_version": "2.0.0",
      "model_name": "HTMLModel",
      "state": {
       "_dom_classes": [],
       "_model_module": "@jupyter-widgets/controls",
       "_model_module_version": "2.0.0",
       "_model_name": "HTMLModel",
       "_view_count": null,
       "_view_module": "@jupyter-widgets/controls",
       "_view_module_version": "2.0.0",
       "_view_name": "HTMLView",
       "description": "",
       "description_allow_html": false,
       "layout": "IPY_MODEL_d69d7c84df2645ce9a704ed12000d468",
       "placeholder": "​",
       "style": "IPY_MODEL_6b34bdd4ba934f2c925b4a74e5a03ae1",
       "tabbable": null,
       "tooltip": null,
       "value": "Map: 100%"
      }
     },
     "e0ea6a8fe3ce4bee8a7923f89e788ab1": {
      "model_module": "@jupyter-widgets/base",
      "model_module_version": "2.0.0",
      "model_name": "LayoutModel",
      "state": {
       "_model_module": "@jupyter-widgets/base",
       "_model_module_version": "2.0.0",
       "_model_name": "LayoutModel",
       "_view_count": null,
       "_view_module": "@jupyter-widgets/base",
       "_view_module_version": "2.0.0",
       "_view_name": "LayoutView",
       "align_content": null,
       "align_items": null,
       "align_self": null,
       "border_bottom": null,
       "border_left": null,
       "border_right": null,
       "border_top": null,
       "bottom": null,
       "display": null,
       "flex": null,
       "flex_flow": null,
       "grid_area": null,
       "grid_auto_columns": null,
       "grid_auto_flow": null,
       "grid_auto_rows": null,
       "grid_column": null,
       "grid_gap": null,
       "grid_row": null,
       "grid_template_areas": null,
       "grid_template_columns": null,
       "grid_template_rows": null,
       "height": null,
       "justify_content": null,
       "justify_items": null,
       "left": null,
       "margin": null,
       "max_height": null,
       "max_width": null,
       "min_height": null,
       "min_width": null,
       "object_fit": null,
       "object_position": null,
       "order": null,
       "overflow": null,
       "padding": null,
       "right": null,
       "top": null,
       "visibility": null,
       "width": null
      }
     },
     "e15a0779f80f427a8d425058f0894cae": {
      "model_module": "@jupyter-widgets/controls",
      "model_module_version": "2.0.0",
      "model_name": "ProgressStyleModel",
      "state": {
       "_model_module": "@jupyter-widgets/controls",
       "_model_module_version": "2.0.0",
       "_model_name": "ProgressStyleModel",
       "_view_count": null,
       "_view_module": "@jupyter-widgets/base",
       "_view_module_version": "2.0.0",
       "_view_name": "StyleView",
       "bar_color": null,
       "description_width": ""
      }
     },
     "e714e61c8cad456297ad6d5d6626ad75": {
      "model_module": "@jupyter-widgets/controls",
      "model_module_version": "2.0.0",
      "model_name": "HTMLStyleModel",
      "state": {
       "_model_module": "@jupyter-widgets/controls",
       "_model_module_version": "2.0.0",
       "_model_name": "HTMLStyleModel",
       "_view_count": null,
       "_view_module": "@jupyter-widgets/base",
       "_view_module_version": "2.0.0",
       "_view_name": "StyleView",
       "background": null,
       "description_width": "",
       "font_size": null,
       "text_color": null
      }
     },
     "e9ebbdc1ab50412e9897111e581956a7": {
      "model_module": "@jupyter-widgets/base",
      "model_module_version": "2.0.0",
      "model_name": "LayoutModel",
      "state": {
       "_model_module": "@jupyter-widgets/base",
       "_model_module_version": "2.0.0",
       "_model_name": "LayoutModel",
       "_view_count": null,
       "_view_module": "@jupyter-widgets/base",
       "_view_module_version": "2.0.0",
       "_view_name": "LayoutView",
       "align_content": null,
       "align_items": null,
       "align_self": null,
       "border_bottom": null,
       "border_left": null,
       "border_right": null,
       "border_top": null,
       "bottom": null,
       "display": null,
       "flex": null,
       "flex_flow": null,
       "grid_area": null,
       "grid_auto_columns": null,
       "grid_auto_flow": null,
       "grid_auto_rows": null,
       "grid_column": null,
       "grid_gap": null,
       "grid_row": null,
       "grid_template_areas": null,
       "grid_template_columns": null,
       "grid_template_rows": null,
       "height": null,
       "justify_content": null,
       "justify_items": null,
       "left": null,
       "margin": null,
       "max_height": null,
       "max_width": null,
       "min_height": null,
       "min_width": null,
       "object_fit": null,
       "object_position": null,
       "order": null,
       "overflow": null,
       "padding": null,
       "right": null,
       "top": null,
       "visibility": null,
       "width": null
      }
     },
     "ebf6b79ad67243f8b69fb2e3f6f337d9": {
      "model_module": "@jupyter-widgets/controls",
      "model_module_version": "2.0.0",
      "model_name": "HBoxModel",
      "state": {
       "_dom_classes": [],
       "_model_module": "@jupyter-widgets/controls",
       "_model_module_version": "2.0.0",
       "_model_name": "HBoxModel",
       "_view_count": null,
       "_view_module": "@jupyter-widgets/controls",
       "_view_module_version": "2.0.0",
       "_view_name": "HBoxView",
       "box_style": "",
       "children": [
        "IPY_MODEL_61405b538b184219853993f037e15194",
        "IPY_MODEL_cd6e3026a4824c71843b53504cb8254f",
        "IPY_MODEL_8b8a449621694087890bea36ad3ed0d6"
       ],
       "layout": "IPY_MODEL_b758cd73db8241a4aeae221185dada53",
       "tabbable": null,
       "tooltip": null
      }
     }
    },
    "version_major": 2,
    "version_minor": 0
   }
  }
 },
 "nbformat": 4,
 "nbformat_minor": 5
}
